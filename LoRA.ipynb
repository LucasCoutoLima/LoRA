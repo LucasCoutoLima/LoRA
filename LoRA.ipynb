{
  "cells": [
    {
      "cell_type": "markdown",
      "id": "ca5a9945-afdb-4835-9ad8-07fa7e808131",
      "metadata": {
        "id": "ca5a9945-afdb-4835-9ad8-07fa7e808131"
      },
      "source": [
        "## Exercício: LoRA\n",
        "\n",
        "* Foi utilizado o mesmo modelo do exercício anterior (GPT-2)\n",
        "* O modelo foi treinado com 70% dos dados e foi congelado\n",
        "* As matrizes A e B foram adicionadas em todas as camadas lineares e embeddings\n",
        "* O modelo LoRA foi treinado com 20% dos dados e avaliado na mesma tarefa de prever a próxima palavra\n",
        "\n",
        "## Resultados:\n",
        "\n",
        "* Pré-treinamento: 7,3 min/época | Fine-tuning com LoRA: 3,7 min/época\n",
        "* Acurácia, Loss e Perplexidade pioraram\n",
        "* Na geração de texto não houveram mudanças perceptíveis"
      ]
    },
    {
      "cell_type": "code",
      "execution_count": null,
      "id": "0a3a7511-9617-4c9a-af88-0c8841af5667",
      "metadata": {
        "id": "0a3a7511-9617-4c9a-af88-0c8841af5667"
      },
      "outputs": [],
      "source": [
        "import random\n",
        "import torch\n",
        "import torch.nn as nn\n",
        "import torch.nn.functional as F\n",
        "import numpy as np"
      ]
    },
    {
      "cell_type": "code",
      "execution_count": null,
      "id": "47861a74-00af-4f96-94cc-fefbc7adbb63",
      "metadata": {
        "id": "47861a74-00af-4f96-94cc-fefbc7adbb63",
        "outputId": "2beba38a-422d-4491-a0b1-dac5c0c183c0"
      },
      "outputs": [
        {
          "data": {
            "text/plain": [
              "<torch._C.Generator at 0x24b9495e170>"
            ]
          },
          "execution_count": 2,
          "metadata": {},
          "output_type": "execute_result"
        }
      ],
      "source": [
        "random.seed(123)\n",
        "np.random.seed(123)\n",
        "torch.manual_seed(123)"
      ]
    },
    {
      "cell_type": "markdown",
      "id": "8b3103b2-a4bc-44c5-83fe-3291197a6f1e",
      "metadata": {
        "id": "8b3103b2-a4bc-44c5-83fe-3291197a6f1e"
      },
      "source": [
        "## Tokenizer"
      ]
    },
    {
      "cell_type": "code",
      "execution_count": null,
      "id": "afa13540-9521-496d-b845-e1839b6bfb51",
      "metadata": {
        "id": "afa13540-9521-496d-b845-e1839b6bfb51",
        "outputId": "6e39f709-3f60-46cf-c8f0-6efddf812a34"
      },
      "outputs": [
        {
          "name": "stderr",
          "output_type": "stream",
          "text": [
            "C:\\Users\\limalucas\\AppData\\Local\\anaconda3\\Lib\\site-packages\\transformers\\tokenization_utils_base.py:1601: FutureWarning: `clean_up_tokenization_spaces` was not set. It will be set to `True` by default. This behavior will be depracted in transformers v4.45, and will be then set to `False` by default. For more details check this issue: https://github.com/huggingface/transformers/issues/31884\n",
            "  warnings.warn(\n"
          ]
        }
      ],
      "source": [
        "from transformers import BertTokenizer\n",
        "tokenizer = BertTokenizer.from_pretrained('neuralmind/bert-base-portuguese-cased')"
      ]
    },
    {
      "cell_type": "markdown",
      "id": "1d8c797d-70f6-451b-b9a3-8f7479ea310a",
      "metadata": {
        "id": "1d8c797d-70f6-451b-b9a3-8f7479ea310a"
      },
      "source": [
        "## Dados\n",
        "\n",
        "Vamos usar o mesmo dataset do Machado de Assis.\n",
        "\n"
      ]
    },
    {
      "cell_type": "code",
      "execution_count": null,
      "id": "5e5afa26-bc92-4cd5-b5f8-417f6d4e0c5b",
      "metadata": {
        "id": "5e5afa26-bc92-4cd5-b5f8-417f6d4e0c5b"
      },
      "outputs": [],
      "source": [
        "#!git clone https://github.com/ethelbeluzzi/projetomachado"
      ]
    },
    {
      "cell_type": "code",
      "execution_count": null,
      "id": "0c0f70cf-fd33-4f7d-8e69-0ccc2d685b09",
      "metadata": {
        "id": "0c0f70cf-fd33-4f7d-8e69-0ccc2d685b09",
        "outputId": "73af1fbc-864b-4c19-fbbd-fb0a3cc97df5"
      },
      "outputs": [
        {
          "data": {
            "text/plain": [
              "4903405"
            ]
          },
          "execution_count": 5,
          "metadata": {},
          "output_type": "execute_result"
        }
      ],
      "source": [
        "import os\n",
        "\n",
        "DATA_PATH = os.path.join(\"projetomachado\", \"textonormalizado1000.txt\")\n",
        "\n",
        "# A príncipio, não estamos limpando as linhas\n",
        "with open(DATA_PATH, \"r\", encoding=\"utf-8\") as data_file:\n",
        "    lines = [line for line in data_file]\n",
        "\n",
        "# É possível voltar a um texto monolítico juntando as linhas.\n",
        "full_data = ' '.join(lines)\n",
        "#full_data = full_data[:100000] # Limitando para testes\n",
        "full_data = tokenizer(full_data).input_ids[1:-1]\n",
        "len(full_data)"
      ]
    },
    {
      "cell_type": "code",
      "execution_count": null,
      "id": "d25c32b1-b731-4fb7-9758-89a6725eec4b",
      "metadata": {
        "id": "d25c32b1-b731-4fb7-9758-89a6725eec4b",
        "outputId": "b69cb113-467a-484e-f62b-3f9e70e2e181"
      },
      "outputs": [
        {
          "data": {
            "text/plain": [
              "(3432383, 980681, 490341)"
            ]
          },
          "execution_count": 6,
          "metadata": {},
          "output_type": "execute_result"
        }
      ],
      "source": [
        "from sklearn.model_selection import train_test_split\n",
        "\n",
        "# Primeiro, separa 30% para val/test e 70% para treino\n",
        "train_text, temp_text = train_test_split(full_data, test_size=0.3, random_state=18, shuffle=False)\n",
        "\n",
        "# Depois, separa os 30% restantes em 20% (train2) e 10% (validação)\n",
        "train_lora_text, val_text = train_test_split(temp_text, test_size=1/3, random_state=18, shuffle=False)\n",
        "\n",
        "# Verifica os tamanhos\n",
        "len(train_text), len(train_lora_text), len(val_text)"
      ]
    },
    {
      "cell_type": "markdown",
      "id": "2bf28053-1364-4042-bbda-a428e27bdf50",
      "metadata": {
        "id": "2bf28053-1364-4042-bbda-a428e27bdf50"
      },
      "source": [
        "## Classe do dataset\n",
        "\n",
        "Utilize o Tokenizer do Bert na classe Dataset.\n",
        "Defina um tamanho de sequencia/contexto."
      ]
    },
    {
      "cell_type": "code",
      "execution_count": null,
      "id": "35c3fe53-fcec-4a21-8209-749ec4ec8eaf",
      "metadata": {
        "id": "35c3fe53-fcec-4a21-8209-749ec4ec8eaf"
      },
      "outputs": [],
      "source": [
        "from torch.utils.data import Dataset\n",
        "\n",
        "context_size = 9  # 7 palavras de entrada. O target é a próxima palavra. <sos> no começo e <eos> no final\n",
        "\"\"\"TODO: Preparar o dataset\"\"\"\n",
        "class TextDataset(Dataset):\n",
        "    def __init__(self, text, context_size):\n",
        "        self.pairs = self.create_context_target_pairs(text, context_size)\n",
        "\n",
        "    def create_context_target_pairs(self, text, context_size):\n",
        "        context_target_pairs = []\n",
        "\n",
        "        # Gerar pares (contexto, target) ignorando targets desconhecidos\n",
        "        for i in range(len(text) - context_size):\n",
        "            context = text[i:i + context_size]\n",
        "            target = text[i+1:i + context_size+1]\n",
        "\n",
        "            context_target_pairs.append((context, target))\n",
        "\n",
        "        return context_target_pairs\n",
        "\n",
        "    def __len__(self):\n",
        "        return len(self.pairs)\n",
        "\n",
        "    def __getitem__(self, idx):\n",
        "        context, target = self.pairs[idx]\n",
        "        return torch.tensor(context, dtype=torch.long), torch.tensor(target, dtype=torch.long)"
      ]
    },
    {
      "cell_type": "code",
      "execution_count": null,
      "id": "cb15be70-b633-4d09-af9e-fadaf02e08d9",
      "metadata": {
        "id": "cb15be70-b633-4d09-af9e-fadaf02e08d9",
        "outputId": "7613e887-295e-4c8f-ceb3-c91a567bf14a"
      },
      "outputs": [
        {
          "data": {
            "text/plain": [
              "(3432374, 980672, 490332)"
            ]
          },
          "execution_count": 8,
          "metadata": {},
          "output_type": "execute_result"
        }
      ],
      "source": [
        "\"\"\"TODO: implemente a classe do dataset\"\"\"\n",
        "train_data = TextDataset(train_text, context_size)\n",
        "train_lora_data = TextDataset(train_lora_text, context_size)\n",
        "val_data = TextDataset(val_text, context_size)\n",
        "len(train_data), len(train_lora_data), len(val_data)"
      ]
    },
    {
      "cell_type": "code",
      "execution_count": null,
      "id": "5248c1bf-e071-45f2-b278-153db3d3b87a",
      "metadata": {
        "id": "5248c1bf-e071-45f2-b278-153db3d3b87a",
        "outputId": "3e0e6ae6-744e-4ee9-bf43-176101ef9501"
      },
      "outputs": [
        {
          "name": "stdout",
          "output_type": "stream",
          "text": [
            "Contexto: tensor([  205,   213,  7073,  6538, 22321, 22352, 21748, 22317,   250]), Target: tensor([  213,  7073,  6538, 22321, 22352, 21748, 22317,   250, 22301])\n",
            "Contexto: tensor([  213,  7073,  6538, 22321, 22352, 21748, 22317,   250, 22301]), Target: tensor([ 7073,  6538, 22321, 22352, 21748, 22317,   250, 22301,   187])\n",
            "Contexto: tensor([ 7073,  6538, 22321, 22352, 21748, 22317,   250, 22301,   187]), Target: tensor([ 6538, 22321, 22352, 21748, 22317,   250, 22301,   187, 18199])\n"
          ]
        }
      ],
      "source": [
        "# Exemplo de acesso a um item do dataset\n",
        "for i in range(3):\n",
        "  sample_context, sample_target = train_data[i]\n",
        "  print(f\"Contexto: {sample_context}, Target: {sample_target}\")"
      ]
    },
    {
      "cell_type": "markdown",
      "id": "f785ed4b-8eff-4ea1-a974-794cc5f526c5",
      "metadata": {
        "id": "f785ed4b-8eff-4ea1-a974-794cc5f526c5"
      },
      "source": [
        "## DataLoader"
      ]
    },
    {
      "cell_type": "code",
      "execution_count": null,
      "id": "b5cd4d34-52db-43c9-9bd4-22ba0b5a9fef",
      "metadata": {
        "id": "b5cd4d34-52db-43c9-9bd4-22ba0b5a9fef"
      },
      "outputs": [],
      "source": [
        "from torch.utils.data import DataLoader\n",
        "batch_size = 512\n",
        "train_loader = DataLoader(train_data, batch_size=batch_size, shuffle=True)\n",
        "train_lora_loader = DataLoader(train_lora_data, batch_size=batch_size, shuffle=True)\n",
        "val_loader = DataLoader(val_data, batch_size=batch_size, shuffle=True)\n",
        "sample = next(iter(train_loader))"
      ]
    },
    {
      "cell_type": "code",
      "execution_count": null,
      "id": "982968b0-68d8-4cd2-9c01-ef1375cf9526",
      "metadata": {
        "id": "982968b0-68d8-4cd2-9c01-ef1375cf9526",
        "outputId": "4231bc15-4236-474d-a61f-f3ec6788bba0"
      },
      "outputs": [
        {
          "name": "stdout",
          "output_type": "stream",
          "text": [
            "Dimensões do contexto no lote: torch.Size([512, 9])\n",
            "Dimensões do alvo no lote: torch.Size([512, 9])\n"
          ]
        },
        {
          "data": {
            "text/plain": [
              "(tensor([[18626,  1780,   117,  ...,   125,  5995,   252],\n",
              "         [22278,   670,   698,  ...,  8925,  4014,   180],\n",
              "         [  117, 18691,  4640,  ...,  1076,   879, 19927],\n",
              "         ...,\n",
              "         [ 8774,   117,  2514,  ...,  8156, 22280,   122],\n",
              "         [  180,  7308,  2536,  ...,   131,   520,   421],\n",
              "         [  123,  1851,  1382,  ..., 11631,  4924,   122]]),\n",
              " tensor([[ 1780,   117,   170,  ...,  5995,   252,   132],\n",
              "         [  670,   698, 22281,  ...,  4014,   180, 10219],\n",
              "         [18691,  4640,   117,  ...,   879, 19927, 22290],\n",
              "         ...,\n",
              "         [  117,  2514,   125,  ..., 22280,   122,  3836],\n",
              "         [ 7308,  2536,   240,  ...,   520,   421,   146],\n",
              "         [ 1851,  1382,   182,  ...,  4924,   122,  4010]]))"
            ]
          },
          "execution_count": 11,
          "metadata": {},
          "output_type": "execute_result"
        }
      ],
      "source": [
        "context_batch, target_batch = sample\n",
        "\n",
        "print(f\"Dimensões do contexto no lote: {context_batch.shape}\")\n",
        "print(f\"Dimensões do alvo no lote: {target_batch.shape}\")\n",
        "context_batch, target_batch"
      ]
    },
    {
      "cell_type": "markdown",
      "id": "76959290-201b-4e53-9139-19c3487a7523",
      "metadata": {
        "id": "76959290-201b-4e53-9139-19c3487a7523"
      },
      "source": [
        "## Modelo"
      ]
    },
    {
      "cell_type": "code",
      "execution_count": null,
      "id": "ec47ab88-8456-43d0-8c7a-915b173eaee0",
      "metadata": {
        "id": "ec47ab88-8456-43d0-8c7a-915b173eaee0"
      },
      "outputs": [],
      "source": [
        "class Head(nn.Module):\n",
        "    \"\"\" uma cabeça de auto-atenção \"\"\"\n",
        "    def __init__(self, head_size):\n",
        "        super().__init__()\n",
        "        self.key = nn.Linear(n_embd, head_size, bias=False)\n",
        "        self.query = nn.Linear(n_embd, head_size, bias=False)\n",
        "        self.value = nn.Linear(n_embd, head_size, bias=False)\n",
        "        self.register_buffer('tril', torch.tril(torch.ones(block_size, block_size)))  # Máscara causal\n",
        "\n",
        "        self.dropout = nn.Dropout(dropout)\n",
        "\n",
        "    def forward(self, x):\n",
        "        B, T, C = x.shape  # batch, seq_len, emb_size\n",
        "        k = self.key(x)   # (B, T, head_size)\n",
        "        q = self.query(x) # (B, T, head_size)\n",
        "        # Calcular scores de atenção\n",
        "        wei = q @ k.transpose(-2, -1) * C**-0.5  # (B, T, head_size) @ (B, head_size, T) -> (B, T, T)\n",
        "        wei = wei.masked_fill(self.tril[:T, :T] == 0, float('-inf'))  # (B, T, T)\n",
        "        wei = F.softmax(wei, dim=-1)  # (B, T, T)\n",
        "        wei = self.dropout(wei)\n",
        "        # Agregação ponderada dos valores\n",
        "        v = self.value(x)  # (B, T, head_size)\n",
        "        out = wei @ v  # (B, T, T) @ (B, T, head_size) -> (B, T, head_size)\n",
        "        return out\n",
        "\n",
        "class MultiHeadAttention(nn.Module):\n",
        "    \"\"\" múltiplas cabeças de auto-atenção em paralelo \"\"\"\n",
        "    def __init__(self, num_heads, head_size):\n",
        "        super().__init__()\n",
        "        self.heads = nn.ModuleList([Head(head_size) for _ in range(num_heads)])\n",
        "        self.proj = nn.Linear(n_embd, n_embd)\n",
        "        self.dropout = nn.Dropout(dropout)\n",
        "\n",
        "    def forward(self, x):\n",
        "        out = torch.cat([h(x) for h in self.heads], dim=-1)  # Concatena as saídas de todas as cabeças\n",
        "        out = self.dropout(self.proj(out))\n",
        "        return out\n",
        "\n",
        "class FeedFoward(nn.Module):\n",
        "    \"\"\" uma camada linear simples seguida por uma não-linearidade \"\"\"\n",
        "    def __init__(self, n_embd):\n",
        "        super().__init__()\n",
        "        self.net = nn.Sequential(\n",
        "            nn.Linear(n_embd, 4 * n_embd),\n",
        "            nn.ReLU(),\n",
        "            nn.Linear(4 * n_embd, n_embd),\n",
        "            nn.Dropout(dropout),\n",
        "        )\n",
        "\n",
        "    def forward(self, x):\n",
        "        return self.net(x)\n",
        "\n",
        "class Block(nn.Module):\n",
        "    \"\"\" Bloco Transformer: comunicação seguida de computação \"\"\"\n",
        "    def __init__(self, n_embd, n_head):\n",
        "        super().__init__()\n",
        "        head_size = n_embd // n_head\n",
        "        self.sa = MultiHeadAttention(n_head, head_size)\n",
        "        self.ffwd = FeedFoward(n_embd)\n",
        "        self.ln1 = nn.LayerNorm(n_embd)\n",
        "        self.ln2 = nn.LayerNorm(n_embd)\n",
        "\n",
        "    def forward(self, x):\n",
        "        x = x + self.sa(self.ln1(x))\n",
        "        x = x + self.ffwd(self.ln2(x))\n",
        "        return x\n",
        "\n",
        "class Microtransformer(nn.Module):\n",
        "    def __init__(self):\n",
        "        super().__init__()\n",
        "        self.token_embedding_table = nn.Embedding(vocab_size, n_embd)\n",
        "        self.position_embedding_table = nn.Embedding(block_size, n_embd)\n",
        "        self.blocks = nn.Sequential(*[Block(n_embd, n_head=n_head) for _ in range(n_layer)])\n",
        "        self.ln_f = nn.LayerNorm(n_embd)  # normalização final\n",
        "        self.lm_head = nn.Linear(n_embd, vocab_size)\n",
        "\n",
        "    def forward(self, idx, targets=None):\n",
        "        B, T = idx.shape\n",
        "        tok_emb = self.token_embedding_table(idx)  # (B, T, C)\n",
        "        pos_emb = self.position_embedding_table(torch.arange(T, device=device))  # (T, C)\n",
        "        x = tok_emb + pos_emb  # (B, T, C)\n",
        "        x = self.blocks(x)  # (B, T, C)\n",
        "        x = self.ln_f(x)  # (B, T, C)\n",
        "        logits = self.lm_head(x)  # (B, T, vocab_size)\n",
        "\n",
        "        return logits"
      ]
    },
    {
      "cell_type": "code",
      "execution_count": null,
      "id": "0d41f49c-99fc-4163-a52b-573663660cac",
      "metadata": {
        "id": "0d41f49c-99fc-4163-a52b-573663660cac"
      },
      "outputs": [],
      "source": [
        "# hyperparameters\n",
        "vocab_size = 29794\n",
        "block_size = 9\n",
        "n_embd = 128\n",
        "n_head = 4\n",
        "n_layer = 4\n",
        "dropout = 0.3"
      ]
    },
    {
      "cell_type": "code",
      "execution_count": null,
      "id": "fe0741fa-9ec0-4a1c-9fd2-beef6e44c6df",
      "metadata": {
        "id": "fe0741fa-9ec0-4a1c-9fd2-beef6e44c6df",
        "outputId": "b4e6cd9f-99f3-49a3-bb7c-ab2a4dd65b65"
      },
      "outputs": [
        {
          "data": {
            "text/plain": [
              "Microtransformer(\n",
              "  (token_embedding_table): Embedding(29794, 128)\n",
              "  (position_embedding_table): Embedding(9, 128)\n",
              "  (blocks): Sequential(\n",
              "    (0): Block(\n",
              "      (sa): MultiHeadAttention(\n",
              "        (heads): ModuleList(\n",
              "          (0-3): 4 x Head(\n",
              "            (key): Linear(in_features=128, out_features=32, bias=False)\n",
              "            (query): Linear(in_features=128, out_features=32, bias=False)\n",
              "            (value): Linear(in_features=128, out_features=32, bias=False)\n",
              "            (dropout): Dropout(p=0.3, inplace=False)\n",
              "          )\n",
              "        )\n",
              "        (proj): Linear(in_features=128, out_features=128, bias=True)\n",
              "        (dropout): Dropout(p=0.3, inplace=False)\n",
              "      )\n",
              "      (ffwd): FeedFoward(\n",
              "        (net): Sequential(\n",
              "          (0): Linear(in_features=128, out_features=512, bias=True)\n",
              "          (1): ReLU()\n",
              "          (2): Linear(in_features=512, out_features=128, bias=True)\n",
              "          (3): Dropout(p=0.3, inplace=False)\n",
              "        )\n",
              "      )\n",
              "      (ln1): LayerNorm((128,), eps=1e-05, elementwise_affine=True)\n",
              "      (ln2): LayerNorm((128,), eps=1e-05, elementwise_affine=True)\n",
              "    )\n",
              "    (1): Block(\n",
              "      (sa): MultiHeadAttention(\n",
              "        (heads): ModuleList(\n",
              "          (0-3): 4 x Head(\n",
              "            (key): Linear(in_features=128, out_features=32, bias=False)\n",
              "            (query): Linear(in_features=128, out_features=32, bias=False)\n",
              "            (value): Linear(in_features=128, out_features=32, bias=False)\n",
              "            (dropout): Dropout(p=0.3, inplace=False)\n",
              "          )\n",
              "        )\n",
              "        (proj): Linear(in_features=128, out_features=128, bias=True)\n",
              "        (dropout): Dropout(p=0.3, inplace=False)\n",
              "      )\n",
              "      (ffwd): FeedFoward(\n",
              "        (net): Sequential(\n",
              "          (0): Linear(in_features=128, out_features=512, bias=True)\n",
              "          (1): ReLU()\n",
              "          (2): Linear(in_features=512, out_features=128, bias=True)\n",
              "          (3): Dropout(p=0.3, inplace=False)\n",
              "        )\n",
              "      )\n",
              "      (ln1): LayerNorm((128,), eps=1e-05, elementwise_affine=True)\n",
              "      (ln2): LayerNorm((128,), eps=1e-05, elementwise_affine=True)\n",
              "    )\n",
              "    (2): Block(\n",
              "      (sa): MultiHeadAttention(\n",
              "        (heads): ModuleList(\n",
              "          (0-3): 4 x Head(\n",
              "            (key): Linear(in_features=128, out_features=32, bias=False)\n",
              "            (query): Linear(in_features=128, out_features=32, bias=False)\n",
              "            (value): Linear(in_features=128, out_features=32, bias=False)\n",
              "            (dropout): Dropout(p=0.3, inplace=False)\n",
              "          )\n",
              "        )\n",
              "        (proj): Linear(in_features=128, out_features=128, bias=True)\n",
              "        (dropout): Dropout(p=0.3, inplace=False)\n",
              "      )\n",
              "      (ffwd): FeedFoward(\n",
              "        (net): Sequential(\n",
              "          (0): Linear(in_features=128, out_features=512, bias=True)\n",
              "          (1): ReLU()\n",
              "          (2): Linear(in_features=512, out_features=128, bias=True)\n",
              "          (3): Dropout(p=0.3, inplace=False)\n",
              "        )\n",
              "      )\n",
              "      (ln1): LayerNorm((128,), eps=1e-05, elementwise_affine=True)\n",
              "      (ln2): LayerNorm((128,), eps=1e-05, elementwise_affine=True)\n",
              "    )\n",
              "    (3): Block(\n",
              "      (sa): MultiHeadAttention(\n",
              "        (heads): ModuleList(\n",
              "          (0-3): 4 x Head(\n",
              "            (key): Linear(in_features=128, out_features=32, bias=False)\n",
              "            (query): Linear(in_features=128, out_features=32, bias=False)\n",
              "            (value): Linear(in_features=128, out_features=32, bias=False)\n",
              "            (dropout): Dropout(p=0.3, inplace=False)\n",
              "          )\n",
              "        )\n",
              "        (proj): Linear(in_features=128, out_features=128, bias=True)\n",
              "        (dropout): Dropout(p=0.3, inplace=False)\n",
              "      )\n",
              "      (ffwd): FeedFoward(\n",
              "        (net): Sequential(\n",
              "          (0): Linear(in_features=128, out_features=512, bias=True)\n",
              "          (1): ReLU()\n",
              "          (2): Linear(in_features=512, out_features=128, bias=True)\n",
              "          (3): Dropout(p=0.3, inplace=False)\n",
              "        )\n",
              "      )\n",
              "      (ln1): LayerNorm((128,), eps=1e-05, elementwise_affine=True)\n",
              "      (ln2): LayerNorm((128,), eps=1e-05, elementwise_affine=True)\n",
              "    )\n",
              "  )\n",
              "  (ln_f): LayerNorm((128,), eps=1e-05, elementwise_affine=True)\n",
              "  (lm_head): Linear(in_features=128, out_features=29794, bias=True)\n",
              ")"
            ]
          },
          "execution_count": 14,
          "metadata": {},
          "output_type": "execute_result"
        }
      ],
      "source": [
        "model = Microtransformer()\n",
        "model"
      ]
    },
    {
      "cell_type": "code",
      "execution_count": null,
      "id": "adf675f4-af3c-4397-b96e-a1e3d5d86a57",
      "metadata": {
        "id": "adf675f4-af3c-4397-b96e-a1e3d5d86a57"
      },
      "outputs": [],
      "source": [
        "#!pip install torchinfo -q"
      ]
    },
    {
      "cell_type": "code",
      "execution_count": null,
      "id": "b92cd3fb-32f6-464c-acde-f0552922505a",
      "metadata": {
        "id": "b92cd3fb-32f6-464c-acde-f0552922505a",
        "outputId": "8ea6f364-1c8f-436b-cd80-d03937d6029f"
      },
      "outputs": [
        {
          "data": {
            "text/plain": [
              "======================================================================\n",
              "Layer (type:depth-idx)                        Param #\n",
              "======================================================================\n",
              "Microtransformer                              --\n",
              "├─Embedding: 1-1                              3,813,632\n",
              "├─Embedding: 1-2                              1,152\n",
              "├─Sequential: 1-3                             --\n",
              "│    └─Block: 2-1                             --\n",
              "│    │    └─MultiHeadAttention: 3-1           65,664\n",
              "│    │    └─FeedFoward: 3-2                   131,712\n",
              "│    │    └─LayerNorm: 3-3                    256\n",
              "│    │    └─LayerNorm: 3-4                    256\n",
              "│    └─Block: 2-2                             --\n",
              "│    │    └─MultiHeadAttention: 3-5           65,664\n",
              "│    │    └─FeedFoward: 3-6                   131,712\n",
              "│    │    └─LayerNorm: 3-7                    256\n",
              "│    │    └─LayerNorm: 3-8                    256\n",
              "│    └─Block: 2-3                             --\n",
              "│    │    └─MultiHeadAttention: 3-9           65,664\n",
              "│    │    └─FeedFoward: 3-10                  131,712\n",
              "│    │    └─LayerNorm: 3-11                   256\n",
              "│    │    └─LayerNorm: 3-12                   256\n",
              "│    └─Block: 2-4                             --\n",
              "│    │    └─MultiHeadAttention: 3-13          65,664\n",
              "│    │    └─FeedFoward: 3-14                  131,712\n",
              "│    │    └─LayerNorm: 3-15                   256\n",
              "│    │    └─LayerNorm: 3-16                   256\n",
              "├─LayerNorm: 1-4                              256\n",
              "├─Linear: 1-5                                 3,843,426\n",
              "======================================================================\n",
              "Total params: 8,450,018\n",
              "Trainable params: 8,450,018\n",
              "Non-trainable params: 0\n",
              "======================================================================"
            ]
          },
          "execution_count": 16,
          "metadata": {},
          "output_type": "execute_result"
        }
      ],
      "source": [
        "import torchinfo\n",
        "torchinfo.summary(model)"
      ]
    },
    {
      "cell_type": "code",
      "execution_count": null,
      "id": "14afd507-1986-499f-8350-8f34cda1ae39",
      "metadata": {
        "id": "14afd507-1986-499f-8350-8f34cda1ae39",
        "outputId": "7720c2c1-4d86-440d-a2c1-76c8b28565f7"
      },
      "outputs": [
        {
          "data": {
            "text/plain": [
              "device(type='cuda')"
            ]
          },
          "execution_count": 17,
          "metadata": {},
          "output_type": "execute_result"
        }
      ],
      "source": [
        "# Verifica se há uma GPU disponível e define o dispositivo para GPU se possível, caso contrário, usa a CPU\n",
        "device = torch.device('cuda' if torch.cuda.is_available() else 'cpu')\n",
        "device"
      ]
    },
    {
      "cell_type": "code",
      "execution_count": null,
      "id": "4da56d92-097e-4c01-84ac-514a84344437",
      "metadata": {
        "id": "4da56d92-097e-4c01-84ac-514a84344437"
      },
      "outputs": [],
      "source": [
        "model.to(device)\n",
        "criterion = nn.CrossEntropyLoss(ignore_index=100) #\"\"\"TODO CrossEntropy\"\"\"\"\n",
        "def calculate_perplexity(model, dataloader, criterion, device):\n",
        "    model.eval()\n",
        "    total_loss = 0.0\n",
        "    total_words = 0\n",
        "\n",
        "    with torch.no_grad():\n",
        "        for contexts, targets in dataloader:\n",
        "            contexts, targets = contexts.to(device), targets.to(device)\n",
        "\n",
        "            # Forward pass\n",
        "            outputs = model(contexts)\n",
        "\n",
        "            # Ajustar as dimensões\n",
        "            outputs = outputs.view(-1, outputs.size(-1))  # (batch_size * seq_len, vocab_size)\n",
        "            targets = targets.view(-1)  # (batch_size * seq_len)\n",
        "            # Calculate the loss\n",
        "            loss = criterion(outputs, targets)\n",
        "\n",
        "            # Accumulate the loss and the number of words\n",
        "            total_loss += loss.item() #* contexts.size(0)\n",
        "            #total_words += targets.size(0)\n",
        "\n",
        "    # Compute the average loss\n",
        "    avg_loss = total_loss / len(dataloader)\n",
        "\n",
        "    # Calculate the perplexity\n",
        "    perplexity = np.exp(avg_loss)\n",
        "\n",
        "    return perplexity"
      ]
    },
    {
      "cell_type": "code",
      "execution_count": null,
      "id": "aaddf79a-f5ca-45cc-ab91-4a696fa5a36c",
      "metadata": {
        "id": "aaddf79a-f5ca-45cc-ab91-4a696fa5a36c",
        "outputId": "b0114630-bb6f-4615-9ec6-d279b79090c1"
      },
      "outputs": [
        {
          "name": "stdout",
          "output_type": "stream",
          "text": [
            "Perplexidade no conjunto de treino: 35866.73\n"
          ]
        }
      ],
      "source": [
        "train_perplexity = calculate_perplexity(model, train_loader, criterion, device)\n",
        "print(f\"Perplexidade no conjunto de treino: {train_perplexity:.2f}\")"
      ]
    },
    {
      "cell_type": "code",
      "execution_count": null,
      "id": "cb1723e0-d71b-44c3-a399-14ac7a9191f2",
      "metadata": {
        "id": "cb1723e0-d71b-44c3-a399-14ac7a9191f2",
        "outputId": "885200b0-bd9c-48c0-bea2-a7ec7929c947"
      },
      "outputs": [
        {
          "name": "stdout",
          "output_type": "stream",
          "text": [
            "Epoch 1/10 - Train Loss: 5.8201 - Val Loss: 5.2840 - Train Accuracy: 0.1321 - Val Accuracy: 0.1645 - Time: 7.33 min\n",
            "Epoch 2/10 - Train Loss: 4.9036 - Val Loss: 5.0373 - Train Accuracy: 0.1843 - Val Accuracy: 0.1857 - Time: 7.35 min\n",
            "Epoch 3/10 - Train Loss: 4.6703 - Val Loss: 4.9390 - Train Accuracy: 0.1997 - Val Accuracy: 0.1967 - Time: 7.33 min\n",
            "Epoch 4/10 - Train Loss: 4.5388 - Val Loss: 4.8889 - Train Accuracy: 0.2088 - Val Accuracy: 0.2029 - Time: 7.36 min\n",
            "Epoch 5/10 - Train Loss: 4.4497 - Val Loss: 4.8563 - Train Accuracy: 0.2151 - Val Accuracy: 0.2071 - Time: 7.33 min\n",
            "Epoch 6/10 - Train Loss: 4.3840 - Val Loss: 4.8426 - Train Accuracy: 0.2200 - Val Accuracy: 0.2097 - Time: 7.34 min\n",
            "Epoch 7/10 - Train Loss: 4.3321 - Val Loss: 4.8281 - Train Accuracy: 0.2239 - Val Accuracy: 0.2124 - Time: 7.33 min\n",
            "Epoch 8/10 - Train Loss: 4.2899 - Val Loss: 4.8195 - Train Accuracy: 0.2273 - Val Accuracy: 0.2140 - Time: 7.35 min\n",
            "Epoch 9/10 - Train Loss: 4.2542 - Val Loss: 4.8122 - Train Accuracy: 0.2301 - Val Accuracy: 0.2158 - Time: 7.32 min\n",
            "Epoch 10/10 - Train Loss: 4.2235 - Val Loss: 4.8085 - Train Accuracy: 0.2326 - Val Accuracy: 0.2176 - Time: 7.35 min\n"
          ]
        },
        {
          "data": {
            "image/png": "[encoded data removed]",
            "text/plain": [
              "<Figure size 1500x500 with 2 Axes>"
            ]
          },
          "metadata": {},
          "output_type": "display_data"
        }
      ],
      "source": [
        "import time\n",
        "import torch.optim as optim\n",
        "import matplotlib.pyplot as plt\n",
        "\n",
        "epochs = 10\n",
        "lr = 1e-4  # Taxa de aprendizado\n",
        "criterion = nn.CrossEntropyLoss(ignore_index=100)  # Função de perda CrossEntropy\n",
        "\n",
        "optimizer = optim.AdamW(model.parameters(), lr=lr)  # Otimizador AdamW\n",
        "\n",
        "model.to(device)\n",
        "\n",
        "# Função de Treinamento\n",
        "def train_epoch(model, dataloader, optimizer, criterion, device):\n",
        "    model.train()\n",
        "    epoch_loss = 0.0\n",
        "    correct = 0\n",
        "    total = 0\n",
        "\n",
        "    for contexts, targets in dataloader:\n",
        "        contexts, targets = contexts.to(device), targets.to(device)\n",
        "\n",
        "        optimizer.zero_grad()\n",
        "\n",
        "        outputs = model(contexts)\n",
        "\n",
        "        # Ajustar as dimensões\n",
        "        outputs = outputs.view(-1, outputs.size(-1))  # (batch_size * seq_len, vocab_size)\n",
        "        targets = targets.view(-1)  # (batch_size * seq_len)\n",
        "\n",
        "        loss = criterion(outputs, targets)\n",
        "        loss.backward()\n",
        "        optimizer.step()\n",
        "\n",
        "        epoch_loss += loss.item() * contexts.size(0)\n",
        "\n",
        "        # Cálculo da acurácia\n",
        "        _, predicted = torch.max(outputs, 1)\n",
        "        total += targets.size(0)\n",
        "        correct += (predicted == targets).sum().item()\n",
        "\n",
        "    accuracy = correct / total\n",
        "    return epoch_loss / len(dataloader.dataset), accuracy\n",
        "\n",
        "# Função de Avaliação\n",
        "def evaluate(model, dataloader, criterion, device):\n",
        "    model.eval()\n",
        "    epoch_loss = 0.0\n",
        "    correct = 0\n",
        "    total = 0\n",
        "\n",
        "    with torch.no_grad():\n",
        "        for contexts, targets in dataloader:\n",
        "            contexts, targets = contexts.to(device), targets.to(device)\n",
        "\n",
        "            outputs = model(contexts)\n",
        "\n",
        "            # Ajustar as dimensões\n",
        "            outputs = outputs.view(-1, outputs.size(-1))  # (batch_size * seq_len, vocab_size)\n",
        "            targets = targets.view(-1)  # (batch_size * seq_len)\n",
        "\n",
        "            loss = criterion(outputs, targets)\n",
        "            epoch_loss += loss.item() * contexts.size(0)\n",
        "\n",
        "            # Cálculo da acurácia\n",
        "            _, predicted = torch.max(outputs, 1)\n",
        "            total += targets.size(0)\n",
        "            correct += (predicted == targets).sum().item()\n",
        "\n",
        "    accuracy = correct / total\n",
        "    return epoch_loss / len(dataloader.dataset), accuracy\n",
        "\n",
        "# Loop de Treinamento e Avaliação com Tempo por Época\n",
        "def train_and_evaluate(model, train_loader, val_loader, optimizer, criterion, epochs, device, print_epoch = True):\n",
        "    train_losses = []\n",
        "    val_losses = []\n",
        "    train_accuracies = []\n",
        "    val_accuracies = []\n",
        "\n",
        "    for epoch in range(epochs):\n",
        "        start_time = time.time()  # Captura o tempo inicial da época\n",
        "\n",
        "        train_loss, train_acc = train_epoch(model, train_loader, optimizer, criterion, device)\n",
        "        val_loss, val_acc = evaluate(model, val_loader, criterion, device)\n",
        "\n",
        "        end_time = time.time()  # Captura o tempo final da época\n",
        "        epoch_time = (end_time - start_time) / 60  # Tempo da época em minutos\n",
        "\n",
        "        train_losses.append(train_loss)\n",
        "        val_losses.append(val_loss)\n",
        "        train_accuracies.append(train_acc)\n",
        "        val_accuracies.append(val_acc)\n",
        "        if print_epoch == True:\n",
        "            print(f\"Epoch {epoch+1}/{epochs} - Train Loss: {train_loss:.4f} - Val Loss: {val_loss:.4f} - \"\n",
        "                  f\"Train Accuracy: {train_acc:.4f} - Val Accuracy: {val_acc:.4f} - \"\n",
        "                  f\"Time: {epoch_time:.2f} min\")\n",
        "\n",
        "    return train_losses, val_losses, train_accuracies, val_accuracies\n",
        "\n",
        "# Treinamento e Avaliação\n",
        "train_losses, val_losses, train_accuracies, val_accuracies = train_and_evaluate(model, train_loader, val_loader, optimizer, criterion, epochs, device)\n",
        "\n",
        "# Plotar Gráficos de Loss e Acurácia\n",
        "def plot_metrics(train_losses, val_losses, train_accuracies, val_accuracies):\n",
        "    fig, axs = plt.subplots(1, 2, figsize=(15, 5))\n",
        "\n",
        "    # Plot de Loss\n",
        "    axs[0].plot(train_losses, label='Train Loss')\n",
        "    axs[0].plot(val_losses, label='Val Loss')\n",
        "    axs[0].set_xlabel('Epoch')\n",
        "    axs[0].set_ylabel('Loss')\n",
        "    axs[0].set_title('Train and Validation Loss')\n",
        "    axs[0].legend()\n",
        "\n",
        "    # Plot de Acurácia\n",
        "    axs[1].plot(train_accuracies, label='Train Accuracy')\n",
        "    axs[1].plot(val_accuracies, label='Val Accuracy')\n",
        "    axs[1].set_xlabel('Epoch')\n",
        "    axs[1].set_ylabel('Accuracy')\n",
        "    axs[1].set_title('Train and Validation Accuracy')\n",
        "    axs[1].legend()\n",
        "\n",
        "    plt.show()\n",
        "\n",
        "plot_metrics(train_losses, val_losses, train_accuracies, val_accuracies)"
      ]
    },
    {
      "cell_type": "code",
      "execution_count": null,
      "id": "d8d06abe-1218-48df-93d5-e3d1acfdc976",
      "metadata": {
        "id": "d8d06abe-1218-48df-93d5-e3d1acfdc976",
        "outputId": "22731bb2-fff1-4d0d-c97a-bee8adea3bcc"
      },
      "outputs": [
        {
          "name": "stdout",
          "output_type": "stream",
          "text": [
            "Perplexidade no conjunto de validação: 122.54\n"
          ]
        }
      ],
      "source": [
        "\"\"\" TODO: calcule a perplexidade final no dataset de validação \"\"\"\n",
        "val_perplexity = calculate_perplexity(model, val_loader, criterion, device)\n",
        "print(f\"Perplexidade no conjunto de validação: {val_perplexity:.2f}\")"
      ]
    },
    {
      "cell_type": "markdown",
      "id": "8a2f8beb-d99b-4857-be33-91ec5b6b9856",
      "metadata": {
        "id": "8a2f8beb-d99b-4857-be33-91ec5b6b9856"
      },
      "source": [
        "## Geração sem temperatura"
      ]
    },
    {
      "cell_type": "code",
      "execution_count": null,
      "id": "f73a74fd-14a7-40a9-8131-3898d4356f7a",
      "metadata": {
        "scrolled": true,
        "id": "f73a74fd-14a7-40a9-8131-3898d4356f7a",
        "outputId": "b425415c-774b-4677-f4e0-0db957d5b096"
      },
      "outputs": [
        {
          "name": "stdout",
          "output_type": "stream",
          "text": [
            "Contexto Inicial: ; ela, porém, vendo que eu estava\n",
            "Texto gerado: .. Não é preciso dizer que o senhor no céu. Não é preciso dizer que o senhor me disse que não... Não é preciso dizer que o senhor me disse que não... Não é preciso dizer que o senhor me disse que não... Não é preciso dizer que o senhor me disse que não... Não é preciso dizer que o senhor me disse que não... Não é preciso dizer que o senhor me disse que não... Não é preciso dizer que o senhor me disse que não... Não é preciso dizer que o senhor me disse que não... Não é preciso dizer que o senhor me disse que não... Não é preciso dizer que o senhor me disse que não... Não é preciso dizer que o senhor\n",
            "----------------------------------------------------------------------------------------------------\n",
            "Contexto Inicial: ; e daí vem a dificuldade de cantar coisas\n",
            "Texto gerado: que o senhor me disse que não.. , e não se pode ser que não... Não é preciso dizer que o senhor me disse que não... Não é preciso dizer que o senhor me disse que não... Não é preciso dizer que o senhor me disse que não... Não é preciso dizer que o senhor me disse que não... Não é preciso dizer que o senhor me disse que não... Não é preciso dizer que o senhor me disse que não... Não é preciso dizer que o senhor me disse que não... Não é preciso dizer que o senhor me disse que não... Não é preciso dizer que o senhor me disse que não... Não é preciso dizer que o senhor me disse que não..\n",
            "----------------------------------------------------------------------------------------------------\n",
            "Contexto Inicial: sempre os mesmos. Não sabia onde iria parar\n",
            "Texto gerado: disse que não... Não é preciso a casa, e a mãe não se demorou muito, e não se pode ser que não... Não é preciso dizer que o senhor me disse que não... Não é preciso dizer que o senhor me disse que não... Não é preciso dizer que o senhor me disse que não... Não é preciso dizer que o senhor me disse que não... Não é preciso dizer que o senhor me disse que não... Não é preciso dizer que o senhor me disse que não... Não é preciso dizer que o senhor me disse que não... Não é preciso dizer que o senhor me disse que não... Não é preciso dizer que o senhor me disse que não... Não é preciso\n",
            "----------------------------------------------------------------------------------------------------\n",
            "Contexto Inicial: ##êloás depois quando as condições da vida\n",
            "Texto gerado: A moça não era a mesma coisa. A , e a vida de um homem que lhe dissesse que a moça não era a mesma coisa. A moça não era a mesma coisa. A moça não era a mesma coisa. A moça não era a mesma coisa. A moça não era a mesma coisa. A moça não era a mesma coisa. A moça não era a mesma coisa. A moça não era a mesma coisa. A moça não era a mesma coisa. A moça não era a mesma coisa. A moça não era a mesma coisa. A moça não era a mesma coisa. A moça não era a mesma coisa. A moça não era a mesma coisa. A moça não era a mesma coisa. A moça não era a mesma coisa. A moça não era a mesma coisa. A\n",
            "----------------------------------------------------------------------------------------------------\n",
            "Contexto Inicial: entenderam que o Elisiário daria um\n",
            "Texto gerado: dizer que o senhor me disse que não. pouco, e não sei se o que é que não é? Não, senhor, disse ele. Não, senhor, não, não é preciso dizer que o senhor me disse que não... Não é preciso dizer que o senhor me disse que não... Não é preciso dizer que o senhor me disse que não... Não é preciso dizer que o senhor me disse que não... Não é preciso dizer que o senhor me disse que não... Não é preciso dizer que o senhor me disse que não... Não é preciso dizer que o senhor me disse que não... Não é preciso dizer que o senhor me disse que não... Não é preciso dizer que o senhor me disse que não.\n",
            "----------------------------------------------------------------------------------------------------\n"
          ]
        }
      ],
      "source": [
        "# Função para gerar texto a partir de um modelo\n",
        "def generate_text(model, context, max_length, context_size, device):\n",
        "    model.eval()\n",
        "\n",
        "    generated_indices = []\n",
        "    context = context\n",
        "    # Começar a geração de texto\n",
        "    for i in range(max_length):\n",
        "        # Obter o contexto atual\n",
        "        input_context = torch.tensor(context[-context_size:], dtype=torch.long, device=device).unsqueeze(0)\n",
        "        # Forward pass\n",
        "        with torch.no_grad():\n",
        "            output = model(input_context) # output.shape: (1, seq_len, vocab_size)\n",
        "\n",
        "        # Obter o índice da palavra mais provável para o próximo token\n",
        "        next_token_logits = output[:, -1, :]  # (1, vocab_size)\n",
        "        predicted_index = torch.argmax(next_token_logits, dim=-1).item()\n",
        "\n",
        "        # Adicionar o índice ao texto gerado\n",
        "        generated_indices.append(predicted_index)\n",
        "\n",
        "        # Atualizar o contexto\n",
        "        context.append(predicted_index)\n",
        "        context = context[-context_size:]\n",
        "\n",
        "    # Decodificar os índices gerados para texto usando o tokenizer do BERT\n",
        "    generated_text = tokenizer.decode(generated_indices)#, skip_special_tokens=True)\n",
        "\n",
        "    return tokenizer.decode(context[:context_size]) + ' ' + generated_text\n",
        "\n",
        "# Função para pegar um contexto aleatório do val_data\n",
        "def get_random_context(val_text, context_size):\n",
        "    # Escolha um índice aleatório para começar\n",
        "    start_index = random.randint(0, len(val_text) - context_size)\n",
        "    context = val_text[start_index:start_index + context_size]\n",
        "\n",
        "    return context\n",
        "\n",
        "# Exemplo de uso\n",
        "context_size = 9\n",
        "for i in range(5):\n",
        "  context = get_random_context(val_text, context_size)\n",
        "  context_text = tokenizer.decode(context)\n",
        "  print(\"Contexto Inicial:\", context_text)\n",
        "\n",
        "  max_length = 150\n",
        "  generated_text = generate_text(model, context, max_length, context_size, device)\n",
        "  print(f\"Texto gerado: {generated_text}\")\n",
        "  print(\"-\" * 100 )"
      ]
    },
    {
      "cell_type": "markdown",
      "id": "13c474cf-4a4f-458e-bf90-4c0fc5bc2392",
      "metadata": {
        "id": "13c474cf-4a4f-458e-bf90-4c0fc5bc2392"
      },
      "source": [
        "## Geração com temperatura"
      ]
    },
    {
      "cell_type": "code",
      "execution_count": null,
      "id": "2a15f516-d7d8-4884-8589-fac801fb85ef",
      "metadata": {
        "id": "2a15f516-d7d8-4884-8589-fac801fb85ef",
        "outputId": "89655ee8-5c9e-4b1d-aa35-7597e1fd4d1f"
      },
      "outputs": [
        {
          "name": "stdout",
          "output_type": "stream",
          "text": [
            "Contexto Inicial: ama as musas a não falar de um\n",
            "Texto gerado: . Eram quatro horas a pouco, e não amigo. A idéia da reconciliação. O que era, no quarto de hora, e julgava a casa do pai no espelho, com a sua lata, e foi pôlo a um sacrifício, tão nublado e triste. As próprias palavras, que não queriam bem, não é o próprio espírito. Não. Em vão, não menos de uma coisa. Explicava com a minha boca. Um dia, um e outro dia... Eram quatro horas a pouco, e não\n",
            "----------------------------------------------------------------------------------------------------\n",
            "Contexto Inicial: seus juízos? Em matéria de arte eu\n",
            "Texto gerado: carta. A razão é que a vi, , como pela mulher, que não ia lá, e às vezes por si mesma, sem saber alguma coisa, e que a dança me levou a boa senhora, que este último regeio. E que não, muito bem, que é a coisa mais demora de uma pessoa que não o vi o que se achava na véspera. O Sr. Antunes não tinha vocação. Dez minutos depois, aliás, concluiu ele.... Gostei uma carta. A razão é que a vi,\n",
            "----------------------------------------------------------------------------------------------------\n",
            "Contexto Inicial: saíram para nunca mais. As noites foram passando\n",
            "Texto gerado: , mas não podia ser assim : Ganha , as palavras, até que eles amasse, e o seu caso, deve voltar às ordens, e acabou a moça inclinouse ao pé do chá. Se me lembra em chamassem esse gesto, e também por isso mesmo ; hás de vir hoje, mas é o que é... Tem razão... E se se não tivesse lido os sons de Tristão, que lhe pareceu que a morte não tinha dormido, mas não podia ser assim : Ganha\n",
            "----------------------------------------------------------------------------------------------------\n",
            "Contexto Inicial: ##ção e prosperidade, eternas exéquias\n",
            "Texto gerado: , mas a idéia, manda sem saber o , que me dá a vida de um pé de cima da cama. A conversa parou com um certo ar de um cão de ouro, um movimento sem esperança. A moça não podia ser a coisa que não acabava de dizer com o mesmo luxo que ficou a morte do capitão, achou agora os números dociliálo. Não mexia, não diga isso? Pois aí está! Pois olha, que me contou aquela palavra de Jorge, mas a idéia, manda sem saber o\n",
            "----------------------------------------------------------------------------------------------------\n",
            "Contexto Inicial: ##ocadas por ela, que temia a\n",
            "Texto gerado: só o gênio irá para jantar, fal minha consciência. Quando meu marido lhe dizia a verdade, era ainda a mesma coisa, que o rapaz pôs ali na idade das lojas. A fama, que era uma recusa de artifício, que o homem, sem dúvida, mas a vida é o que lhe ouvia com a menor simpatia que o aperto ; Voltavase também a súplica. Se ele andou, não só então, não há presidência nem os seus olhos da casa, e só o gênio irá para jantar, fal\n",
            "----------------------------------------------------------------------------------------------------\n"
          ]
        }
      ],
      "source": [
        "import torch.nn.functional as F\n",
        "\n",
        "# Função para gerar texto a partir de um modelo com temperatura\n",
        "def generate_text_t(model, context, max_length, context_size, device, temperature=1.0):\n",
        "    model.eval()\n",
        "\n",
        "    generated_indices = []\n",
        "    context = context\n",
        "\n",
        "    # Começar a geração de texto\n",
        "    for i in range(max_length):\n",
        "        # Obter o contexto atual\n",
        "        input_context = torch.tensor(context[-context_size:], dtype=torch.long, device=device).unsqueeze(0)\n",
        "\n",
        "        # Forward pass\n",
        "        with torch.no_grad():\n",
        "            output = model(input_context)  # output.shape: (1, seq_len, vocab_size)\n",
        "\n",
        "        # Aplicar a temperatura\n",
        "        next_token_logits = output[:, -1, :] / temperature  # Ajustar logits pela temperatura\n",
        "        probabilities = F.softmax(next_token_logits, dim=-1)  # Converter logits em probabilidades\n",
        "\n",
        "        # Amostrar o próximo token a partir das probabilidades ajustadas\n",
        "        predicted_index = torch.multinomial(probabilities, num_samples=1).item()\n",
        "\n",
        "        # Adicionar o índice ao texto gerado\n",
        "        generated_indices.append(predicted_index)\n",
        "\n",
        "        # Atualizar o contexto\n",
        "        context.append(predicted_index)\n",
        "        context = context[-context_size:]\n",
        "\n",
        "    # Decodificar os índices gerados para texto usando o tokenizer do BERT\n",
        "    generated_text = tokenizer.decode(generated_indices)\n",
        "\n",
        "    return tokenizer.decode(context[:context_size]) + ' ' + generated_text\n",
        "\n",
        "# Função para pegar um contexto aleatório do val_data\n",
        "def get_random_context(val_text, context_size):\n",
        "    # Escolha um índice aleatório para começar\n",
        "    start_index = random.randint(0, len(val_text) - context_size)\n",
        "    context = val_text[start_index:start_index + context_size]\n",
        "\n",
        "    return context\n",
        "\n",
        "# Exemplo de uso\n",
        "context_size = 9\n",
        "for i in range(5):\n",
        "    context = get_random_context(val_text, context_size)\n",
        "    context_text = tokenizer.decode(context)\n",
        "    print(\"Contexto Inicial:\", context_text)\n",
        "\n",
        "    max_length = 100\n",
        "    temperature = 0.7 # Ajuste a temperatura conforme necessário\n",
        "    generated_text = generate_text_t(model, context, max_length, context_size, device, temperature=temperature)\n",
        "    print(f\"Texto gerado: {generated_text}\")\n",
        "    print(\"-\" * 100)\n"
      ]
    },
    {
      "cell_type": "markdown",
      "id": "c4f2767a-8a3f-4eca-9079-f4ce35028805",
      "metadata": {
        "id": "c4f2767a-8a3f-4eca-9079-f4ce35028805"
      },
      "source": [
        "# Adicionando LoRA"
      ]
    },
    {
      "cell_type": "code",
      "execution_count": null,
      "id": "8d8514c0-6064-48d1-9683-d40f9b9d4a74",
      "metadata": {
        "id": "8d8514c0-6064-48d1-9683-d40f9b9d4a74"
      },
      "outputs": [],
      "source": [
        "class LoRALayer(nn.Module):\n",
        "    \"\"\"\n",
        "    Cria as matrizes A e B para o modelo LoRA.\n",
        "    Args:\n",
        "        in_dim: dimensão de entrada\n",
        "        out_dim: dimensão de saída\n",
        "        rank: rank do modelo LoRA\n",
        "        alpha: fator de escala para o modelo LoRA\n",
        "    \"\"\"\n",
        "    def __init__(self, in_dim, out_dim, rank, alpha=1):\n",
        "        super().__init__()\n",
        "        std_dev = 1 / torch.sqrt(torch.tensor(rank).float())\n",
        "        self.A = nn.Parameter(torch.randn(in_dim, rank) * std_dev)\n",
        "        self.B = nn.Parameter(torch.zeros(rank, out_dim))\n",
        "        self.alpha = alpha\n",
        "\n",
        "    def forward(self, x):\n",
        "        return self.alpha * (x @ self.A @ self.B)\n",
        "\n",
        "class EmbeddingWithLoRA(nn.Module):\n",
        "    \"\"\"\n",
        "    Substitui a camada de embedding por uma versão com LoRA.\n",
        "    Args:\n",
        "        embed: camada de embedding original\n",
        "        rank: rank do LoRA\n",
        "        alpha: fator de escalonamento do LoRA\n",
        "    \"\"\"\n",
        "    def __init__(self, embed, rank, alpha=1):\n",
        "        super().__init__()\n",
        "        self.embedding = embed\n",
        "        self.lora = LoRALayer(embed.embedding_dim, embed.embedding_dim, rank, alpha)\n",
        "\n",
        "    def forward(self, x):\n",
        "        # Obtém a saída da camada de embedding original\n",
        "        embed = self.embedding(x)\n",
        "        # Aplica a transformação LoRA\n",
        "        lora_output = self.lora(embed)\n",
        "        # Retorna a soma da saída original com o ajuste LoRA\n",
        "        return embed + lora_output\n",
        "\n",
        "class LinearWithLoRA(nn.Module):\n",
        "    \"\"\"\n",
        "    Combina a camada linear com a camada LoRA.\n",
        "    Args:\n",
        "        linear: camada linear original\n",
        "        rank: rank do modelo LoRA\n",
        "        alpha: fator de escala para o modelo LoRA\n",
        "    \"\"\"\n",
        "    def __init__(self, linear, rank, alpha=1):\n",
        "        super().__init__()\n",
        "        self.linear = linear\n",
        "        self.lora = LoRALayer(linear.in_features, linear.out_features, rank, alpha)\n",
        "\n",
        "    def forward(self, x):\n",
        "        return self.linear(x) + self.lora(x)\n",
        "\n",
        "class HeadWithLoRA(nn.Module):\n",
        "    \"\"\" Uma cabeça de auto-atenção com LoRA \"\"\"\n",
        "    def __init__(self, head_size, rank, alpha):\n",
        "        super().__init__()\n",
        "        self.key = LinearWithLoRA(nn.Linear(n_embd, head_size, bias=False), rank, alpha)\n",
        "        self.query = LinearWithLoRA(nn.Linear(n_embd, head_size, bias=False), rank, alpha)\n",
        "        self.value = LinearWithLoRA(nn.Linear(n_embd, head_size, bias=False), rank, alpha)\n",
        "        self.register_buffer('tril', torch.tril(torch.ones(block_size, block_size)))\n",
        "        self.dropout = nn.Dropout(dropout)\n",
        "\n",
        "    def forward(self, x):\n",
        "        B, T, C = x.shape\n",
        "        k = self.key(x)  # (B, T, head_size)\n",
        "        q = self.query(x)  # (B, T, head_size)\n",
        "        wei = q @ k.transpose(-2, -1) * C**-0.5\n",
        "        wei = wei.masked_fill(self.tril[:T, :T] == 0, float('-inf'))\n",
        "        wei = F.softmax(wei, dim=-1)\n",
        "        wei = self.dropout(wei)\n",
        "        v = self.value(x)  # (B, T, head_size)\n",
        "        out = wei @ v  # (B, T, head_size)\n",
        "        return out\n",
        "\n",
        "class MultiHeadAttentionWithLoRA(nn.Module):\n",
        "    \"\"\" Múltiplas cabeças de auto-atenção com LoRA em paralelo \"\"\"\n",
        "    def __init__(self, num_heads, head_size, rank, alpha):\n",
        "        super().__init__()\n",
        "        self.heads = nn.ModuleList([HeadWithLoRA(head_size, rank, alpha) for _ in range(num_heads)])\n",
        "        self.proj = LinearWithLoRA(nn.Linear(n_embd, n_embd), rank, alpha)\n",
        "        self.dropout = nn.Dropout(dropout)\n",
        "\n",
        "    def forward(self, x):\n",
        "        out = torch.cat([h(x) for h in self.heads], dim=-1)\n",
        "        out = self.dropout(self.proj(out))\n",
        "        return out\n",
        "\n",
        "class FeedForwardWithLoRA(nn.Module):\n",
        "    \"\"\"Feed-forward com LoRA aplicado\"\"\"\n",
        "    def __init__(self, feed_forward, rank, alpha):\n",
        "        super().__init__()\n",
        "        self.net = nn.Sequential(\n",
        "            LinearWithLoRA(feed_forward.net[0], rank=rank, alpha=alpha),\n",
        "            feed_forward.net[1],  # ReLU\n",
        "            LinearWithLoRA(feed_forward.net[2], rank=rank, alpha=alpha),\n",
        "            feed_forward.net[3]   # Dropout\n",
        "        )\n",
        "\n",
        "    def forward(self, x):\n",
        "        return self.net(x)\n",
        "\n",
        "class BlockWithLoRA(nn.Module):\n",
        "    \"\"\" Bloco Transformer com LoRA: comunicação seguida de computação \"\"\"\n",
        "    def __init__(self, n_embd, n_head, rank, alpha):\n",
        "        super().__init__()\n",
        "        head_size = n_embd // n_head\n",
        "        self.sa = MultiHeadAttentionWithLoRA(n_head, head_size, rank, alpha)\n",
        "        self.ffwd = FeedFowardWithLoRA(n_embd, rank, alpha)\n",
        "        self.ln1 = nn.LayerNorm(n_embd)\n",
        "        self.ln2 = nn.LayerNorm(n_embd)\n",
        "\n",
        "    def forward(self, x):\n",
        "        x = x + self.sa(self.ln1(x))\n",
        "        x = x + self.ffwd(self.ln2(x))\n",
        "        return x\n",
        "\n",
        "class MicrotransformerWithLoRA(nn.Module):\n",
        "    def __init__(self, rank, alpha):\n",
        "        super().__init__()\n",
        "        self.token_embedding_table = nn.Embedding(vocab_size, n_embd)\n",
        "        self.position_embedding_table = nn.Embedding(block_size, n_embd)\n",
        "        self.blocks = nn.Sequential(*[BlockWithLoRA(n_embd, n_head, rank, alpha) for _ in range(n_layer)])\n",
        "        self.ln_f = nn.LayerNorm(n_embd)\n",
        "        self.lm_head = LinearWithLoRA(nn.Linear(n_embd, vocab_size), rank, alpha)\n",
        "\n",
        "    def forward(self, idx, targets=None):\n",
        "        B, T = idx.shape\n",
        "        tok_emb = self.token_embedding_table(idx)\n",
        "        pos_emb = self.position_embedding_table(torch.arange(T, device=device))\n",
        "        x = tok_emb + pos_emb\n",
        "        x = self.blocks(x)\n",
        "        x = self.ln_f(x)\n",
        "        logits = self.lm_head(x)\n",
        "        return logits\n"
      ]
    },
    {
      "cell_type": "code",
      "execution_count": null,
      "id": "2bfb7282-69e6-4fe3-83db-f4068fb70acd",
      "metadata": {
        "id": "2bfb7282-69e6-4fe3-83db-f4068fb70acd",
        "outputId": "5dfa7c53-94f1-4831-ae52-f35a8e7d200d"
      },
      "outputs": [
        {
          "name": "stdout",
          "output_type": "stream",
          "text": [
            "Microtransformer(\n",
            "  (token_embedding_table): EmbeddingWithLoRA(\n",
            "    (embedding): Embedding(29794, 128)\n",
            "    (lora): LoRALayer()\n",
            "  )\n",
            "  (position_embedding_table): EmbeddingWithLoRA(\n",
            "    (embedding): Embedding(9, 128)\n",
            "    (lora): LoRALayer()\n",
            "  )\n",
            "  (blocks): Sequential(\n",
            "    (0): Block(\n",
            "      (sa): MultiHeadAttention(\n",
            "        (heads): ModuleList(\n",
            "          (0-3): 4 x Head(\n",
            "            (key): LinearWithLoRA(\n",
            "              (linear): Linear(in_features=128, out_features=32, bias=False)\n",
            "              (lora): LoRALayer()\n",
            "            )\n",
            "            (query): LinearWithLoRA(\n",
            "              (linear): Linear(in_features=128, out_features=32, bias=False)\n",
            "              (lora): LoRALayer()\n",
            "            )\n",
            "            (value): LinearWithLoRA(\n",
            "              (linear): Linear(in_features=128, out_features=32, bias=False)\n",
            "              (lora): LoRALayer()\n",
            "            )\n",
            "            (dropout): Dropout(p=0.3, inplace=False)\n",
            "          )\n",
            "        )\n",
            "        (proj): LinearWithLoRA(\n",
            "          (linear): Linear(in_features=128, out_features=128, bias=True)\n",
            "          (lora): LoRALayer()\n",
            "        )\n",
            "        (dropout): Dropout(p=0.3, inplace=False)\n",
            "      )\n",
            "      (ffwd): FeedForwardWithLoRA(\n",
            "        (net): Sequential(\n",
            "          (0): LinearWithLoRA(\n",
            "            (linear): Linear(in_features=128, out_features=512, bias=True)\n",
            "            (lora): LoRALayer()\n",
            "          )\n",
            "          (1): ReLU()\n",
            "          (2): LinearWithLoRA(\n",
            "            (linear): Linear(in_features=512, out_features=128, bias=True)\n",
            "            (lora): LoRALayer()\n",
            "          )\n",
            "          (3): Dropout(p=0.3, inplace=False)\n",
            "        )\n",
            "      )\n",
            "      (ln1): LayerNorm((128,), eps=1e-05, elementwise_affine=True)\n",
            "      (ln2): LayerNorm((128,), eps=1e-05, elementwise_affine=True)\n",
            "    )\n",
            "    (1): Block(\n",
            "      (sa): MultiHeadAttention(\n",
            "        (heads): ModuleList(\n",
            "          (0-3): 4 x Head(\n",
            "            (key): LinearWithLoRA(\n",
            "              (linear): Linear(in_features=128, out_features=32, bias=False)\n",
            "              (lora): LoRALayer()\n",
            "            )\n",
            "            (query): LinearWithLoRA(\n",
            "              (linear): Linear(in_features=128, out_features=32, bias=False)\n",
            "              (lora): LoRALayer()\n",
            "            )\n",
            "            (value): LinearWithLoRA(\n",
            "              (linear): Linear(in_features=128, out_features=32, bias=False)\n",
            "              (lora): LoRALayer()\n",
            "            )\n",
            "            (dropout): Dropout(p=0.3, inplace=False)\n",
            "          )\n",
            "        )\n",
            "        (proj): LinearWithLoRA(\n",
            "          (linear): Linear(in_features=128, out_features=128, bias=True)\n",
            "          (lora): LoRALayer()\n",
            "        )\n",
            "        (dropout): Dropout(p=0.3, inplace=False)\n",
            "      )\n",
            "      (ffwd): FeedForwardWithLoRA(\n",
            "        (net): Sequential(\n",
            "          (0): LinearWithLoRA(\n",
            "            (linear): Linear(in_features=128, out_features=512, bias=True)\n",
            "            (lora): LoRALayer()\n",
            "          )\n",
            "          (1): ReLU()\n",
            "          (2): LinearWithLoRA(\n",
            "            (linear): Linear(in_features=512, out_features=128, bias=True)\n",
            "            (lora): LoRALayer()\n",
            "          )\n",
            "          (3): Dropout(p=0.3, inplace=False)\n",
            "        )\n",
            "      )\n",
            "      (ln1): LayerNorm((128,), eps=1e-05, elementwise_affine=True)\n",
            "      (ln2): LayerNorm((128,), eps=1e-05, elementwise_affine=True)\n",
            "    )\n",
            "    (2): Block(\n",
            "      (sa): MultiHeadAttention(\n",
            "        (heads): ModuleList(\n",
            "          (0-3): 4 x Head(\n",
            "            (key): LinearWithLoRA(\n",
            "              (linear): Linear(in_features=128, out_features=32, bias=False)\n",
            "              (lora): LoRALayer()\n",
            "            )\n",
            "            (query): LinearWithLoRA(\n",
            "              (linear): Linear(in_features=128, out_features=32, bias=False)\n",
            "              (lora): LoRALayer()\n",
            "            )\n",
            "            (value): LinearWithLoRA(\n",
            "              (linear): Linear(in_features=128, out_features=32, bias=False)\n",
            "              (lora): LoRALayer()\n",
            "            )\n",
            "            (dropout): Dropout(p=0.3, inplace=False)\n",
            "          )\n",
            "        )\n",
            "        (proj): LinearWithLoRA(\n",
            "          (linear): Linear(in_features=128, out_features=128, bias=True)\n",
            "          (lora): LoRALayer()\n",
            "        )\n",
            "        (dropout): Dropout(p=0.3, inplace=False)\n",
            "      )\n",
            "      (ffwd): FeedForwardWithLoRA(\n",
            "        (net): Sequential(\n",
            "          (0): LinearWithLoRA(\n",
            "            (linear): Linear(in_features=128, out_features=512, bias=True)\n",
            "            (lora): LoRALayer()\n",
            "          )\n",
            "          (1): ReLU()\n",
            "          (2): LinearWithLoRA(\n",
            "            (linear): Linear(in_features=512, out_features=128, bias=True)\n",
            "            (lora): LoRALayer()\n",
            "          )\n",
            "          (3): Dropout(p=0.3, inplace=False)\n",
            "        )\n",
            "      )\n",
            "      (ln1): LayerNorm((128,), eps=1e-05, elementwise_affine=True)\n",
            "      (ln2): LayerNorm((128,), eps=1e-05, elementwise_affine=True)\n",
            "    )\n",
            "    (3): Block(\n",
            "      (sa): MultiHeadAttention(\n",
            "        (heads): ModuleList(\n",
            "          (0-3): 4 x Head(\n",
            "            (key): LinearWithLoRA(\n",
            "              (linear): Linear(in_features=128, out_features=32, bias=False)\n",
            "              (lora): LoRALayer()\n",
            "            )\n",
            "            (query): LinearWithLoRA(\n",
            "              (linear): Linear(in_features=128, out_features=32, bias=False)\n",
            "              (lora): LoRALayer()\n",
            "            )\n",
            "            (value): LinearWithLoRA(\n",
            "              (linear): Linear(in_features=128, out_features=32, bias=False)\n",
            "              (lora): LoRALayer()\n",
            "            )\n",
            "            (dropout): Dropout(p=0.3, inplace=False)\n",
            "          )\n",
            "        )\n",
            "        (proj): LinearWithLoRA(\n",
            "          (linear): Linear(in_features=128, out_features=128, bias=True)\n",
            "          (lora): LoRALayer()\n",
            "        )\n",
            "        (dropout): Dropout(p=0.3, inplace=False)\n",
            "      )\n",
            "      (ffwd): FeedForwardWithLoRA(\n",
            "        (net): Sequential(\n",
            "          (0): LinearWithLoRA(\n",
            "            (linear): Linear(in_features=128, out_features=512, bias=True)\n",
            "            (lora): LoRALayer()\n",
            "          )\n",
            "          (1): ReLU()\n",
            "          (2): LinearWithLoRA(\n",
            "            (linear): Linear(in_features=512, out_features=128, bias=True)\n",
            "            (lora): LoRALayer()\n",
            "          )\n",
            "          (3): Dropout(p=0.3, inplace=False)\n",
            "        )\n",
            "      )\n",
            "      (ln1): LayerNorm((128,), eps=1e-05, elementwise_affine=True)\n",
            "      (ln2): LayerNorm((128,), eps=1e-05, elementwise_affine=True)\n",
            "    )\n",
            "  )\n",
            "  (ln_f): LayerNorm((128,), eps=1e-05, elementwise_affine=True)\n",
            "  (lm_head): LinearWithLoRA(\n",
            "    (linear): Linear(in_features=128, out_features=29794, bias=True)\n",
            "    (lora): LoRALayer()\n",
            "  )\n",
            ")\n"
          ]
        }
      ],
      "source": [
        "import copy\n",
        "\n",
        "# Definição dos hiperparâmetros do LoRA\n",
        "lora_rank = 64\n",
        "lora_alpha = 128\n",
        "\n",
        "# Criação de uma cópia profunda do modelo para aplicar LoRA\n",
        "model_lora = copy.deepcopy(model)\n",
        "\n",
        "# Congelar todos os parâmetros do modelo\n",
        "for param in model_lora.parameters():\n",
        "    param.requires_grad = False\n",
        "\n",
        "# Aplicar LoRA nas camadas de embedding\n",
        "model_lora.token_embedding_table = EmbeddingWithLoRA(model_lora.token_embedding_table, rank=lora_rank, alpha=lora_alpha)\n",
        "model_lora.position_embedding_table = EmbeddingWithLoRA(model_lora.position_embedding_table, rank=lora_rank, alpha=lora_alpha)\n",
        "\n",
        "\n",
        "\n",
        "# Aplicar LoRA às camadas de atenção e feed-forward\n",
        "for block in model_lora.blocks:\n",
        "    # Aplicar LoRA nas cabeças de atenção\n",
        "    for i, head in enumerate(block.sa.heads):\n",
        "        block.sa.heads[i].key = LinearWithLoRA(head.key, rank=lora_rank, alpha=lora_alpha)\n",
        "        block.sa.heads[i].query = LinearWithLoRA(head.query, rank=lora_rank, alpha=lora_alpha)\n",
        "        block.sa.heads[i].value = LinearWithLoRA(head.value, rank=lora_rank, alpha=lora_alpha)\n",
        "\n",
        "    # Substituir a camada de projeção final das atenções\n",
        "    block.sa.proj = LinearWithLoRA(block.sa.proj, rank=lora_rank, alpha=lora_alpha)\n",
        "\n",
        "    # Substituir a camada feed-forward com LoRA\n",
        "    block.ffwd = FeedForwardWithLoRA(block.ffwd, rank=lora_rank, alpha=lora_alpha)\n",
        "\n",
        "# Substituir as camadas finais do modelo\n",
        "model_lora.lm_head = LinearWithLoRA(model_lora.lm_head, rank=lora_rank, alpha=lora_alpha)\n",
        "\n",
        "# Inspecionar a estrutura do modelo com LoRA aplicado\n",
        "print(model_lora)\n"
      ]
    },
    {
      "cell_type": "code",
      "execution_count": null,
      "id": "c5cfdf20-c2dc-4f75-b985-6a35ae89323f",
      "metadata": {
        "id": "c5cfdf20-c2dc-4f75-b985-6a35ae89323f",
        "outputId": "67308463-3352-4738-d0d0-f785a6ebbcb5"
      },
      "outputs": [
        {
          "data": {
            "text/plain": [
              "================================================================================\n",
              "Layer (type:depth-idx)                                  Param #\n",
              "================================================================================\n",
              "Microtransformer                                        --\n",
              "├─EmbeddingWithLoRA: 1-1                                --\n",
              "│    └─Embedding: 2-1                                   (3,813,632)\n",
              "│    └─LoRALayer: 2-2                                   16,384\n",
              "├─EmbeddingWithLoRA: 1-2                                --\n",
              "│    └─Embedding: 2-3                                   (1,152)\n",
              "│    └─LoRALayer: 2-4                                   16,384\n",
              "├─Sequential: 1-3                                       --\n",
              "│    └─Block: 2-5                                       --\n",
              "│    │    └─MultiHeadAttention: 3-1                     204,928\n",
              "│    │    └─FeedForwardWithLoRA: 3-2                    213,632\n",
              "│    │    └─LayerNorm: 3-3                              (256)\n",
              "│    │    └─LayerNorm: 3-4                              (256)\n",
              "│    └─Block: 2-6                                       --\n",
              "│    │    └─MultiHeadAttention: 3-5                     204,928\n",
              "│    │    └─FeedForwardWithLoRA: 3-6                    213,632\n",
              "│    │    └─LayerNorm: 3-7                              (256)\n",
              "│    │    └─LayerNorm: 3-8                              (256)\n",
              "│    └─Block: 2-7                                       --\n",
              "│    │    └─MultiHeadAttention: 3-9                     204,928\n",
              "│    │    └─FeedForwardWithLoRA: 3-10                   213,632\n",
              "│    │    └─LayerNorm: 3-11                             (256)\n",
              "│    │    └─LayerNorm: 3-12                             (256)\n",
              "│    └─Block: 2-8                                       --\n",
              "│    │    └─MultiHeadAttention: 3-13                    204,928\n",
              "│    │    └─FeedForwardWithLoRA: 3-14                   213,632\n",
              "│    │    └─LayerNorm: 3-15                             (256)\n",
              "│    │    └─LayerNorm: 3-16                             (256)\n",
              "├─LayerNorm: 1-4                                        (256)\n",
              "├─LinearWithLoRA: 1-5                                   --\n",
              "│    └─Linear: 2-9                                      (3,843,426)\n",
              "│    └─LoRALayer: 2-10                                  1,915,008\n",
              "================================================================================\n",
              "Total params: 11,282,530\n",
              "Trainable params: 2,832,512\n",
              "Non-trainable params: 8,450,018\n",
              "================================================================================"
            ]
          },
          "execution_count": 26,
          "metadata": {},
          "output_type": "execute_result"
        }
      ],
      "source": [
        "torchinfo.summary(model_lora)"
      ]
    },
    {
      "cell_type": "code",
      "execution_count": null,
      "id": "45fa4eb4-1852-4689-b441-7449ef567238",
      "metadata": {
        "id": "45fa4eb4-1852-4689-b441-7449ef567238",
        "outputId": "4858a1c4-d77e-479e-c638-ea07caa7ef49"
      },
      "outputs": [
        {
          "name": "stdout",
          "output_type": "stream",
          "text": [
            "Epoch 1/100 - Train Loss: 4.9215 - Val Loss: 5.4854 - Train Accuracy: 0.1749 - Val Accuracy: 0.1686 - Time: 3.67 min\n",
            "Epoch 2/100 - Train Loss: 4.4247 - Val Loss: 5.5017 - Train Accuracy: 0.2067 - Val Accuracy: 0.1754 - Time: 3.67 min\n",
            "Epoch 3/100 - Train Loss: 4.3090 - Val Loss: 5.5005 - Train Accuracy: 0.2164 - Val Accuracy: 0.1773 - Time: 3.67 min\n",
            "Epoch 4/100 - Train Loss: 4.2364 - Val Loss: 5.5240 - Train Accuracy: 0.2226 - Val Accuracy: 0.1806 - Time: 3.69 min\n",
            "Epoch 5/100 - Train Loss: 4.1828 - Val Loss: 5.5322 - Train Accuracy: 0.2275 - Val Accuracy: 0.1825 - Time: 3.73 min\n",
            "Epoch 6/100 - Train Loss: 4.1404 - Val Loss: 5.5630 - Train Accuracy: 0.2317 - Val Accuracy: 0.1837 - Time: 3.70 min\n",
            "Epoch 7/100 - Train Loss: 4.1059 - Val Loss: 5.5738 - Train Accuracy: 0.2350 - Val Accuracy: 0.1828 - Time: 3.68 min\n",
            "Epoch 8/100 - Train Loss: 4.0773 - Val Loss: 5.5995 - Train Accuracy: 0.2375 - Val Accuracy: 0.1865 - Time: 3.70 min\n",
            "Epoch 9/100 - Train Loss: 4.0538 - Val Loss: 5.6093 - Train Accuracy: 0.2401 - Val Accuracy: 0.1868 - Time: 3.67 min\n",
            "Epoch 10/100 - Train Loss: 4.0340 - Val Loss: 5.6333 - Train Accuracy: 0.2420 - Val Accuracy: 0.1876 - Time: 3.70 min\n",
            "Epoch 11/100 - Train Loss: 4.0160 - Val Loss: 5.6577 - Train Accuracy: 0.2437 - Val Accuracy: 0.1886 - Time: 3.69 min\n",
            "Epoch 12/100 - Train Loss: 4.0003 - Val Loss: 5.6497 - Train Accuracy: 0.2454 - Val Accuracy: 0.1887 - Time: 3.67 min\n",
            "Epoch 13/100 - Train Loss: 3.9868 - Val Loss: 5.6777 - Train Accuracy: 0.2467 - Val Accuracy: 0.1895 - Time: 3.99 min\n",
            "Epoch 14/100 - Train Loss: 3.9743 - Val Loss: 5.6916 - Train Accuracy: 0.2480 - Val Accuracy: 0.1906 - Time: 3.67 min\n",
            "Epoch 15/100 - Train Loss: 3.9623 - Val Loss: 5.7027 - Train Accuracy: 0.2494 - Val Accuracy: 0.1899 - Time: 3.67 min\n",
            "Epoch 16/100 - Train Loss: 3.9522 - Val Loss: 5.6862 - Train Accuracy: 0.2503 - Val Accuracy: 0.1898 - Time: 3.69 min\n",
            "Epoch 17/100 - Train Loss: 3.9426 - Val Loss: 5.7022 - Train Accuracy: 0.2511 - Val Accuracy: 0.1910 - Time: 3.68 min\n",
            "Epoch 18/100 - Train Loss: 3.9334 - Val Loss: 5.7103 - Train Accuracy: 0.2522 - Val Accuracy: 0.1906 - Time: 3.67 min\n",
            "Epoch 19/100 - Train Loss: 3.9251 - Val Loss: 5.7260 - Train Accuracy: 0.2530 - Val Accuracy: 0.1914 - Time: 3.67 min\n",
            "Epoch 20/100 - Train Loss: 3.9178 - Val Loss: 5.7305 - Train Accuracy: 0.2536 - Val Accuracy: 0.1909 - Time: 3.67 min\n",
            "Epoch 21/100 - Train Loss: 3.9104 - Val Loss: 5.7434 - Train Accuracy: 0.2546 - Val Accuracy: 0.1921 - Time: 3.67 min\n",
            "Epoch 22/100 - Train Loss: 3.9036 - Val Loss: 5.7346 - Train Accuracy: 0.2552 - Val Accuracy: 0.1909 - Time: 3.69 min\n",
            "Epoch 23/100 - Train Loss: 3.8969 - Val Loss: 5.7322 - Train Accuracy: 0.2559 - Val Accuracy: 0.1924 - Time: 3.67 min\n",
            "Epoch 24/100 - Train Loss: 3.8909 - Val Loss: 5.7546 - Train Accuracy: 0.2565 - Val Accuracy: 0.1920 - Time: 3.67 min\n",
            "Epoch 25/100 - Train Loss: 3.8853 - Val Loss: 5.7579 - Train Accuracy: 0.2572 - Val Accuracy: 0.1923 - Time: 3.67 min\n",
            "Epoch 26/100 - Train Loss: 3.8793 - Val Loss: 5.7656 - Train Accuracy: 0.2578 - Val Accuracy: 0.1924 - Time: 3.67 min\n",
            "Epoch 27/100 - Train Loss: 3.8743 - Val Loss: 5.7602 - Train Accuracy: 0.2583 - Val Accuracy: 0.1923 - Time: 3.69 min\n",
            "Epoch 28/100 - Train Loss: 3.8692 - Val Loss: 5.7737 - Train Accuracy: 0.2588 - Val Accuracy: 0.1926 - Time: 3.67 min\n",
            "Epoch 29/100 - Train Loss: 3.8646 - Val Loss: 5.7863 - Train Accuracy: 0.2593 - Val Accuracy: 0.1922 - Time: 3.68 min\n",
            "Epoch 30/100 - Train Loss: 3.8598 - Val Loss: 5.7806 - Train Accuracy: 0.2598 - Val Accuracy: 0.1934 - Time: 3.67 min\n",
            "Epoch 31/100 - Train Loss: 3.8555 - Val Loss: 5.7872 - Train Accuracy: 0.2602 - Val Accuracy: 0.1930 - Time: 3.67 min\n",
            "Epoch 32/100 - Train Loss: 3.8510 - Val Loss: 5.7986 - Train Accuracy: 0.2608 - Val Accuracy: 0.1940 - Time: 3.67 min\n",
            "Epoch 33/100 - Train Loss: 3.8472 - Val Loss: 5.7991 - Train Accuracy: 0.2611 - Val Accuracy: 0.1938 - Time: 3.69 min\n",
            "Epoch 34/100 - Train Loss: 3.8435 - Val Loss: 5.7884 - Train Accuracy: 0.2615 - Val Accuracy: 0.1929 - Time: 3.67 min\n",
            "Epoch 35/100 - Train Loss: 3.8394 - Val Loss: 5.7927 - Train Accuracy: 0.2618 - Val Accuracy: 0.1936 - Time: 3.67 min\n",
            "Epoch 36/100 - Train Loss: 3.8351 - Val Loss: 5.7937 - Train Accuracy: 0.2623 - Val Accuracy: 0.1940 - Time: 3.67 min\n",
            "Epoch 37/100 - Train Loss: 3.8319 - Val Loss: 5.7796 - Train Accuracy: 0.2629 - Val Accuracy: 0.1941 - Time: 3.67 min\n",
            "Epoch 38/100 - Train Loss: 3.8287 - Val Loss: 5.7979 - Train Accuracy: 0.2631 - Val Accuracy: 0.1935 - Time: 3.70 min\n",
            "Epoch 39/100 - Train Loss: 3.8250 - Val Loss: 5.8163 - Train Accuracy: 0.2636 - Val Accuracy: 0.1938 - Time: 3.68 min\n",
            "Epoch 40/100 - Train Loss: 3.8219 - Val Loss: 5.8042 - Train Accuracy: 0.2638 - Val Accuracy: 0.1937 - Time: 3.68 min\n",
            "Epoch 41/100 - Train Loss: 3.8184 - Val Loss: 5.8100 - Train Accuracy: 0.2642 - Val Accuracy: 0.1945 - Time: 3.68 min\n",
            "Epoch 42/100 - Train Loss: 3.8154 - Val Loss: 5.8170 - Train Accuracy: 0.2645 - Val Accuracy: 0.1955 - Time: 3.68 min\n",
            "Epoch 43/100 - Train Loss: 3.8128 - Val Loss: 5.8046 - Train Accuracy: 0.2648 - Val Accuracy: 0.1941 - Time: 3.67 min\n",
            "Epoch 44/100 - Train Loss: 3.8097 - Val Loss: 5.8251 - Train Accuracy: 0.2651 - Val Accuracy: 0.1953 - Time: 3.69 min\n",
            "Epoch 45/100 - Train Loss: 3.8068 - Val Loss: 5.8255 - Train Accuracy: 0.2653 - Val Accuracy: 0.1940 - Time: 3.67 min\n",
            "Epoch 46/100 - Train Loss: 3.8043 - Val Loss: 5.8205 - Train Accuracy: 0.2657 - Val Accuracy: 0.1929 - Time: 3.67 min\n",
            "Epoch 47/100 - Train Loss: 3.8020 - Val Loss: 5.8470 - Train Accuracy: 0.2658 - Val Accuracy: 0.1938 - Time: 3.67 min\n",
            "Epoch 48/100 - Train Loss: 3.7990 - Val Loss: 5.8427 - Train Accuracy: 0.2660 - Val Accuracy: 0.1944 - Time: 3.70 min\n",
            "Epoch 49/100 - Train Loss: 3.7964 - Val Loss: 5.8165 - Train Accuracy: 0.2665 - Val Accuracy: 0.1946 - Time: 3.67 min\n",
            "Epoch 50/100 - Train Loss: 3.7939 - Val Loss: 5.8341 - Train Accuracy: 0.2668 - Val Accuracy: 0.1936 - Time: 3.67 min\n",
            "Epoch 51/100 - Train Loss: 3.7909 - Val Loss: 5.8467 - Train Accuracy: 0.2671 - Val Accuracy: 0.1947 - Time: 3.67 min\n",
            "Epoch 52/100 - Train Loss: 3.7890 - Val Loss: 5.8350 - Train Accuracy: 0.2673 - Val Accuracy: 0.1930 - Time: 3.67 min\n",
            "Epoch 53/100 - Train Loss: 3.7870 - Val Loss: 5.8435 - Train Accuracy: 0.2673 - Val Accuracy: 0.1947 - Time: 3.67 min\n",
            "Epoch 54/100 - Train Loss: 3.7842 - Val Loss: 5.8460 - Train Accuracy: 0.2677 - Val Accuracy: 0.1950 - Time: 3.69 min\n",
            "Epoch 55/100 - Train Loss: 3.7825 - Val Loss: 5.8465 - Train Accuracy: 0.2679 - Val Accuracy: 0.1951 - Time: 3.67 min\n",
            "Epoch 56/100 - Train Loss: 3.7804 - Val Loss: 5.8359 - Train Accuracy: 0.2682 - Val Accuracy: 0.1944 - Time: 3.67 min\n",
            "Epoch 57/100 - Train Loss: 3.7781 - Val Loss: 5.8391 - Train Accuracy: 0.2682 - Val Accuracy: 0.1953 - Time: 3.67 min\n",
            "Epoch 58/100 - Train Loss: 3.7758 - Val Loss: 5.8362 - Train Accuracy: 0.2687 - Val Accuracy: 0.1924 - Time: 3.67 min\n",
            "Epoch 59/100 - Train Loss: 3.7744 - Val Loss: 5.8633 - Train Accuracy: 0.2688 - Val Accuracy: 0.1961 - Time: 3.69 min\n",
            "Epoch 60/100 - Train Loss: 3.7722 - Val Loss: 5.8592 - Train Accuracy: 0.2689 - Val Accuracy: 0.1959 - Time: 3.67 min\n",
            "Epoch 61/100 - Train Loss: 3.7705 - Val Loss: 5.8474 - Train Accuracy: 0.2691 - Val Accuracy: 0.1958 - Time: 3.67 min\n",
            "Epoch 62/100 - Train Loss: 3.7679 - Val Loss: 5.8437 - Train Accuracy: 0.2693 - Val Accuracy: 0.1939 - Time: 3.67 min\n",
            "Epoch 63/100 - Train Loss: 3.7665 - Val Loss: 5.8673 - Train Accuracy: 0.2695 - Val Accuracy: 0.1957 - Time: 3.67 min\n",
            "Epoch 64/100 - Train Loss: 3.7640 - Val Loss: 5.8571 - Train Accuracy: 0.2699 - Val Accuracy: 0.1960 - Time: 3.67 min\n",
            "Epoch 65/100 - Train Loss: 3.7628 - Val Loss: 5.8739 - Train Accuracy: 0.2700 - Val Accuracy: 0.1945 - Time: 3.69 min\n",
            "Epoch 66/100 - Train Loss: 3.7609 - Val Loss: 5.8881 - Train Accuracy: 0.2701 - Val Accuracy: 0.1967 - Time: 3.67 min\n",
            "Epoch 67/100 - Train Loss: 3.7592 - Val Loss: 5.8526 - Train Accuracy: 0.2703 - Val Accuracy: 0.1963 - Time: 3.68 min\n",
            "Epoch 68/100 - Train Loss: 3.7573 - Val Loss: 5.8619 - Train Accuracy: 0.2706 - Val Accuracy: 0.1953 - Time: 3.67 min\n",
            "Epoch 69/100 - Train Loss: 3.7552 - Val Loss: 5.8576 - Train Accuracy: 0.2707 - Val Accuracy: 0.1959 - Time: 3.68 min\n",
            "Epoch 70/100 - Train Loss: 3.7538 - Val Loss: 5.8684 - Train Accuracy: 0.2708 - Val Accuracy: 0.1958 - Time: 3.70 min\n",
            "Epoch 71/100 - Train Loss: 3.7522 - Val Loss: 5.8700 - Train Accuracy: 0.2711 - Val Accuracy: 0.1960 - Time: 3.68 min\n",
            "Epoch 72/100 - Train Loss: 3.7510 - Val Loss: 5.8643 - Train Accuracy: 0.2712 - Val Accuracy: 0.1958 - Time: 3.68 min\n",
            "Epoch 73/100 - Train Loss: 3.7494 - Val Loss: 5.8620 - Train Accuracy: 0.2713 - Val Accuracy: 0.1955 - Time: 3.68 min\n",
            "Epoch 74/100 - Train Loss: 3.7483 - Val Loss: 5.8635 - Train Accuracy: 0.2715 - Val Accuracy: 0.1957 - Time: 3.68 min\n",
            "Epoch 75/100 - Train Loss: 3.7461 - Val Loss: 5.8922 - Train Accuracy: 0.2718 - Val Accuracy: 0.1966 - Time: 3.68 min\n",
            "Epoch 76/100 - Train Loss: 3.7450 - Val Loss: 5.8624 - Train Accuracy: 0.2720 - Val Accuracy: 0.1966 - Time: 3.70 min\n",
            "Epoch 77/100 - Train Loss: 3.7434 - Val Loss: 5.8890 - Train Accuracy: 0.2721 - Val Accuracy: 0.1948 - Time: 3.68 min\n",
            "Epoch 78/100 - Train Loss: 3.7421 - Val Loss: 5.8858 - Train Accuracy: 0.2720 - Val Accuracy: 0.1964 - Time: 3.68 min\n",
            "Epoch 79/100 - Train Loss: 3.7405 - Val Loss: 5.8821 - Train Accuracy: 0.2723 - Val Accuracy: 0.1961 - Time: 3.68 min\n",
            "Epoch 80/100 - Train Loss: 3.7390 - Val Loss: 5.8890 - Train Accuracy: 0.2723 - Val Accuracy: 0.1963 - Time: 3.68 min\n",
            "Epoch 81/100 - Train Loss: 3.7373 - Val Loss: 5.8829 - Train Accuracy: 0.2727 - Val Accuracy: 0.1960 - Time: 3.70 min\n",
            "Epoch 82/100 - Train Loss: 3.7368 - Val Loss: 5.8833 - Train Accuracy: 0.2727 - Val Accuracy: 0.1960 - Time: 3.68 min\n",
            "Epoch 83/100 - Train Loss: 3.7351 - Val Loss: 5.8782 - Train Accuracy: 0.2729 - Val Accuracy: 0.1962 - Time: 3.68 min\n",
            "Epoch 84/100 - Train Loss: 3.7334 - Val Loss: 5.8892 - Train Accuracy: 0.2730 - Val Accuracy: 0.1955 - Time: 3.68 min\n",
            "Epoch 85/100 - Train Loss: 3.7323 - Val Loss: 5.8982 - Train Accuracy: 0.2732 - Val Accuracy: 0.1978 - Time: 3.67 min\n",
            "Epoch 86/100 - Train Loss: 3.7313 - Val Loss: 5.9051 - Train Accuracy: 0.2732 - Val Accuracy: 0.1961 - Time: 3.68 min\n",
            "Epoch 87/100 - Train Loss: 3.7296 - Val Loss: 5.8810 - Train Accuracy: 0.2735 - Val Accuracy: 0.1958 - Time: 3.70 min\n",
            "Epoch 88/100 - Train Loss: 3.7295 - Val Loss: 5.8835 - Train Accuracy: 0.2734 - Val Accuracy: 0.1958 - Time: 3.68 min\n",
            "Epoch 89/100 - Train Loss: 3.7276 - Val Loss: 5.9062 - Train Accuracy: 0.2737 - Val Accuracy: 0.1963 - Time: 3.68 min\n",
            "Epoch 90/100 - Train Loss: 3.7271 - Val Loss: 5.9069 - Train Accuracy: 0.2739 - Val Accuracy: 0.1963 - Time: 3.67 min\n",
            "Epoch 91/100 - Train Loss: 3.7255 - Val Loss: 5.8982 - Train Accuracy: 0.2740 - Val Accuracy: 0.1965 - Time: 3.67 min\n",
            "Epoch 92/100 - Train Loss: 3.7242 - Val Loss: 5.9003 - Train Accuracy: 0.2740 - Val Accuracy: 0.1964 - Time: 3.69 min\n",
            "Epoch 93/100 - Train Loss: 3.7234 - Val Loss: 5.8913 - Train Accuracy: 0.2741 - Val Accuracy: 0.1969 - Time: 3.67 min\n",
            "Epoch 94/100 - Train Loss: 3.7220 - Val Loss: 5.8887 - Train Accuracy: 0.2743 - Val Accuracy: 0.1952 - Time: 3.67 min\n",
            "Epoch 95/100 - Train Loss: 3.7208 - Val Loss: 5.9085 - Train Accuracy: 0.2744 - Val Accuracy: 0.1967 - Time: 3.66 min\n",
            "Epoch 96/100 - Train Loss: 3.7200 - Val Loss: 5.8936 - Train Accuracy: 0.2744 - Val Accuracy: 0.1973 - Time: 3.67 min\n",
            "Epoch 97/100 - Train Loss: 3.7183 - Val Loss: 5.8920 - Train Accuracy: 0.2746 - Val Accuracy: 0.1967 - Time: 3.67 min\n",
            "Epoch 98/100 - Train Loss: 3.7175 - Val Loss: 5.8852 - Train Accuracy: 0.2749 - Val Accuracy: 0.1949 - Time: 3.69 min\n",
            "Epoch 99/100 - Train Loss: 3.7163 - Val Loss: 5.8936 - Train Accuracy: 0.2749 - Val Accuracy: 0.1964 - Time: 3.67 min\n",
            "Epoch 100/100 - Train Loss: 3.7157 - Val Loss: 5.8884 - Train Accuracy: 0.2750 - Val Accuracy: 0.1967 - Time: 3.67 min\n"
          ]
        },
        {
          "data": {
            "image/png": "[encoded data removed]",
            "text/plain": [
              "<Figure size 1500x500 with 2 Axes>"
            ]
          },
          "metadata": {},
          "output_type": "display_data"
        }
      ],
      "source": [
        "epochs = 100\n",
        "lr = 1e-4  # Taxa de aprendizado\n",
        "criterion = nn.CrossEntropyLoss(ignore_index=100)  # Função de perda CrossEntropy\n",
        "\n",
        "optimizer = optim.AdamW(model_lora.parameters(), lr=lr)  # Otimizador AdamW\n",
        "\n",
        "model_lora.to(device)\n",
        "\n",
        "train_losses, val_losses, train_accuracies, val_accuracies = train_and_evaluate(\n",
        "    model_lora, train_lora_loader, val_loader, optimizer, criterion, epochs, device\n",
        ")\n",
        "plot_metrics(train_losses, val_losses, train_accuracies, val_accuracies)"
      ]
    },
    {
      "cell_type": "markdown",
      "id": "34ab4026-4b71-4a5e-892c-505bc88491c0",
      "metadata": {
        "id": "34ab4026-4b71-4a5e-892c-505bc88491c0"
      },
      "source": [
        "# Geração sem temperatura"
      ]
    },
    {
      "cell_type": "code",
      "execution_count": null,
      "id": "464466c4-bbbc-4c5b-b7b4-27e14a24bdc6",
      "metadata": {
        "id": "464466c4-bbbc-4c5b-b7b4-27e14a24bdc6",
        "outputId": "874459ae-b54d-462e-b316-7614b856ca7d"
      },
      "outputs": [
        {
          "name": "stdout",
          "output_type": "stream",
          "text": [
            "Contexto Inicial: . A atitude não o satisfazia de todo\n",
            "Texto gerado: não é que o senhor é que não é , e o que lhe dissesse. Não, não, não, mas, por que não seja alterado, e que o nosso Rubião não desistiu da casa, e o homem, que era um homem que não lhe pareceu que o senhor não é que o senhor é que não é que o senhor é que não é que o senhor é que não é que o senhor é que não é que o senhor é que não é que o senhor é que não é que o senhor é que não é que o senhor é que não é que o senhor é que não é que o senhor é que não é que o senhor é que não é que o senhor é que não é que o senhor é que não é que o senhor é que não é\n",
            "----------------------------------------------------------------------------------------------------\n",
            "Contexto Inicial: Pois que me fecham a porta dos\n",
            "Texto gerado: é que não é que o senhor é que armarinhos, e o que lhe dissesse. Não, não, não, mas, por que não seja alterado, e que o nosso Rubião não desistiu da casa, e o homem, que era um homem que não lhe pareceu que o senhor não é que o senhor é que não é que o senhor é que não é que o senhor é que não é que o senhor é que não é que o senhor é que não é que o senhor é que não é que o senhor é que não é que o senhor é que não é que o senhor é que não é que o senhor é que não é que o senhor é que não é que o senhor é que não é que o senhor é que não é que o senhor é que\n",
            "----------------------------------------------------------------------------------------------------\n",
            "Contexto Inicial: só ama e conhece outro ofício. Já se\n",
            "Texto gerado: que o senhor é que não é que o não fosse, mas não se pode dizer que o nosso Rubião não desistiu da casa, e o homem, que era um homem que não lhe pareceu que o senhor não é que o senhor é que não é que o senhor é que não é que o senhor é que não é que o senhor é que não é que o senhor é que não é que o senhor é que não é que o senhor é que não é que o senhor é que não é que o senhor é que não é que o senhor é que não é que o senhor é que não é que o senhor é que não é que o senhor é que não é que o senhor é que não é que o senhor é que não é que o senhor é que não é que o\n",
            "----------------------------------------------------------------------------------------------------\n",
            "Contexto Inicial: na rua, não iria ao Cassino,\n",
            "Texto gerado: que não é que o senhor é que não e o homem, que era um homem que não lhe pareceu que o senhor não é que o senhor é que não é que o senhor é que não é que o senhor é que não é que o senhor é que não é que o senhor é que não é que o senhor é que não é que o senhor é que não é que o senhor é que não é que o senhor é que não é que o senhor é que não é que o senhor é que não é que o senhor é que não é que o senhor é que não é que o senhor é que não é que o senhor é que não é que o senhor é que não é que o senhor é que não é que o senhor é que não é que o senhor é que não\n",
            "----------------------------------------------------------------------------------------------------\n",
            "Contexto Inicial: duplas, que nos parecem um só astro.\n",
            "Texto gerado: ......... ......................................................................................................................................................\n",
            "----------------------------------------------------------------------------------------------------\n"
          ]
        }
      ],
      "source": [
        "# Exemplo de uso\n",
        "context_size = 9\n",
        "for i in range(5):\n",
        "  context = get_random_context(val_text, context_size)\n",
        "  context_text = tokenizer.decode(context)\n",
        "  print(\"Contexto Inicial:\", context_text)\n",
        "\n",
        "  max_length = 150\n",
        "  generated_text = generate_text(model_lora, context, max_length, context_size, device)\n",
        "  print(f\"Texto gerado: {generated_text}\")\n",
        "  print(\"-\" * 100 )"
      ]
    },
    {
      "cell_type": "markdown",
      "id": "ada51adc-c285-4399-abed-f1980562e359",
      "metadata": {
        "id": "ada51adc-c285-4399-abed-f1980562e359"
      },
      "source": [
        "# Geração com temperatura"
      ]
    },
    {
      "cell_type": "code",
      "execution_count": null,
      "id": "77a8325c-292d-4f61-a342-970c894cd40a",
      "metadata": {
        "id": "77a8325c-292d-4f61-a342-970c894cd40a",
        "outputId": "a2418267-e2fb-4dc8-9346-5157432f4baa"
      },
      "outputs": [
        {
          "name": "stdout",
          "output_type": "stream",
          "text": [
            "Contexto Inicial: ##lo? Não posso aturála. Virgem\n",
            "Texto gerado: ......... Nossa Senhora! CAPÍTULO XII A ESQUERDA BARÃO Fico. Não tinha a mesma coisa. Não é? perguntou a moça. Eu................................................................\n",
            "----------------------------------------------------------------------------------------------------\n",
            "Contexto Inicial: se não for menos ; estou desenganado\n",
            "Texto gerado: ##atibilidade de um instante, uma vez , porém, não acabava de acender o que é que durante alguns dias a noite talvez de hoje, que lá estava assim. Já vês? Você não o achou que eu só lhe haviam de ir, e a mãe lhe dão. Jorge não conhecia esses defeitos e zelos. Na manhã seguinte estavam na sala de visitas, e o pai, e que o Sr. Soares acabou, não tendo de todo o tempo de deixar a frase incompatibilidade de um instante, uma vez\n",
            "----------------------------------------------------------------------------------------------------\n",
            "Contexto Inicial: ##ândega ; alegres, mas hon\n",
            "Texto gerado: e foi o mesmo que eu vim para ##esto. Mrs alheio. E o mais que eu não sentia os seus achas. A memória dos dois, quando ele pensava com a sua indiferença. Era... Vá, meu caro Nabuco, com a transmissão de uma chicota de loteria, mas a impaciência disselhe que não dizia nada. A verdade é que o Sr. Dr. Camargo, esse primeiro dia, e não acharam nada, e foi o mesmo que eu vim para\n",
            "----------------------------------------------------------------------------------------------------\n",
            "Contexto Inicial: morais às literárias. A nova geração freq\n",
            "Texto gerado: , podes dizer ; o que é que ue me a divertilou... E eu não sei, não sei se me lembra bem... D. HELENA ELISA Não? LULU VENÂNCIO DE ALENCANTA Bemaventurados... Todavia, se não era segredo. E foi assim que o conhece... Mas... venho ainda hoje? perguntoume o Dr. Jeremias, podes dizer ; o que é que\n",
            "----------------------------------------------------------------------------------------------------\n",
            "Contexto Inicial: A. Barreiros, que, tratando de\n",
            "Texto gerado: BOTA ESQUERDA. casa, olhava para os olhos para ver o que há de dizer que não fosse, se o seu amigo não tinha mais, e do mesmo modo, que o pai estávamos no quintal e a boa companhia, mas, por um modo de dizer o que ela gosta de mim? perguntou Adelaide. Não o nome do capitão Mendonça era ou um homem de Apolo, e sobretudo odiabo, e não se lhe atribuía para o anfitrião. BOTA ESQUERDA.\n",
            "----------------------------------------------------------------------------------------------------\n"
          ]
        }
      ],
      "source": [
        "# Exemplo de uso\n",
        "context_size = 9\n",
        "for i in range(5):\n",
        "    context = get_random_context(val_text, context_size)\n",
        "    context_text = tokenizer.decode(context)\n",
        "    print(\"Contexto Inicial:\", context_text)\n",
        "\n",
        "    max_length = 100\n",
        "    temperature = 0.7 # Ajuste a temperatura conforme necessário\n",
        "    generated_text = generate_text_t(model, context, max_length, context_size, device, temperature=temperature)\n",
        "    print(f\"Texto gerado: {generated_text}\")\n",
        "    print(\"-\" * 100)"
      ]
    },
    {
      "cell_type": "code",
      "execution_count": null,
      "id": "4adb9126-739a-4e6f-9e10-b358b4a3b41b",
      "metadata": {
        "id": "4adb9126-739a-4e6f-9e10-b358b4a3b41b",
        "outputId": "8691e0df-c084-4da4-ac0e-db853d53b6c2"
      },
      "outputs": [
        {
          "name": "stdout",
          "output_type": "stream",
          "text": [
            "Perplexidade no conjunto de validação: 360.81\n"
          ]
        }
      ],
      "source": [
        "\"\"\" TODO: calcule a perplexidade final no dataset de validação \"\"\"\n",
        "val_perplexity = calculate_perplexity(model_lora, val_loader, criterion, device)\n",
        "print(f\"Perplexidade no conjunto de validação: {val_perplexity:.2f}\")"
      ]
    },
    {
      "cell_type": "code",
      "execution_count": null,
      "id": "76df7cf4-3367-4d95-b3df-d8e577ffcf25",
      "metadata": {
        "id": "76df7cf4-3367-4d95-b3df-d8e577ffcf25"
      },
      "outputs": [],
      "source": []
    }
  ],
  "metadata": {
    "kernelspec": {
      "display_name": "Python 3 (ipykernel)",
      "language": "python",
      "name": "python3"
    },
    "language_info": {
      "codemirror_mode": {
        "name": "ipython",
        "version": 3
      },
      "file_extension": ".py",
      "mimetype": "text/x-python",
      "name": "python",
      "nbconvert_exporter": "python",
      "pygments_lexer": "ipython3",
      "version": "3.11.7"
    },
    "colab": {
      "provenance": []
    }
  },
  "nbformat": 4,
  "nbformat_minor": 5
}